{
 "cells": [
  {
   "cell_type": "markdown",
   "id": "ca7225f9",
   "metadata": {},
   "source": [
    "# Dictionaries"
   ]
  },
  {
   "cell_type": "code",
   "execution_count": 4,
   "id": "feb1546a",
   "metadata": {},
   "outputs": [
    {
     "name": "stdout",
     "output_type": "stream",
     "text": [
      "{'name': 'Morty', 'age': 26}\n"
     ]
    }
   ],
   "source": [
    "# declaring a dictionary variable\n",
    "empty = { }                        # empty dictionary\n",
    "person = {'name' : 'John Smith'}    # dictionary with one key/value pair\n",
    "customer = {\n",
    "    'name' : 'Morty',\n",
    "    'age' : 26\n",
    "}                                  # dictionary with two key/value pair\n",
    "print(customer)"
   ]
  },
  {
   "cell_type": "code",
   "execution_count": 5,
   "id": "f1de92d5",
   "metadata": {},
   "outputs": [
    {
     "name": "stdout",
     "output_type": "stream",
     "text": [
      "John\n"
     ]
    }
   ],
   "source": [
    "# accessing dictionary information through keys \n",
    "person = {\"name\" : \"John\"}\n",
    "print(person[\"name\"])             # access information through the key"
   ]
  },
  {
   "cell_type": "code",
   "execution_count": 6,
   "id": "84a38a85",
   "metadata": {},
   "outputs": [
    {
     "name": "stdout",
     "output_type": "stream",
     "text": [
      "John\n",
      "Age is not available.\n"
     ]
    }
   ],
   "source": [
    "# using the get method to access dictionary information\n",
    "person = {\"name\" : \"John\"}\n",
    "print(person.get(\"name\"))         # retrieves value of name key as before\n",
    "print(person.get(\"age\", \"Age is not available.\"))   # get is a secure way to retrieve information"
   ]
  },
  {
   "cell_type": "code",
   "execution_count": 8,
   "id": "57a66d3d",
   "metadata": {},
   "outputs": [
    {
     "name": "stdout",
     "output_type": "stream",
     "text": [
      "soccer\n"
     ]
    }
   ],
   "source": [
    "# storing a list within a dictionary and accessing it\n",
    "data = {\"sports\" : [\"baseball\", \"football\", \"hockey\", \"soccer\"]}\n",
    "print(data[\"sports\"][0])      # first access the key, then the index"
   ]
  },
  {
   "cell_type": "code",
   "execution_count": 9,
   "id": "da93f100",
   "metadata": {},
   "outputs": [
    {
     "ename": "ValueError",
     "evalue": "dictionary update sequence element #0 has length 8; 2 is required",
     "output_type": "error",
     "traceback": [
      "\u001b[1;31m---------------------------------------------------------------------------\u001b[0m",
      "\u001b[1;31mValueError\u001b[0m                                Traceback (most recent call last)",
      "Cell \u001b[1;32mIn[9], line 3\u001b[0m\n\u001b[0;32m      1\u001b[0m \u001b[38;5;66;03m# improperly storing a list within a dictionary\u001b[39;00m\n\u001b[0;32m      2\u001b[0m sports \u001b[38;5;241m=\u001b[39m [\u001b[38;5;124m\"\u001b[39m\u001b[38;5;124mbaseball\u001b[39m\u001b[38;5;124m\"\u001b[39m, \u001b[38;5;124m\"\u001b[39m\u001b[38;5;124mfootball\u001b[39m\u001b[38;5;124m\"\u001b[39m, \u001b[38;5;124m\"\u001b[39m\u001b[38;5;124mhockey\u001b[39m\u001b[38;5;124m\"\u001b[39m, \u001b[38;5;124m\"\u001b[39m\u001b[38;5;124msoccer\u001b[39m\u001b[38;5;124m\"\u001b[39m]     \u001b[38;5;66;03m# will produce error, no key\u001b[39;00m\n\u001b[1;32m----> 3\u001b[0m sports_dict \u001b[38;5;241m=\u001b[39m \u001b[38;5;28;43mdict\u001b[39;49m\u001b[43m(\u001b[49m\u001b[43msports\u001b[49m\u001b[43m)\u001b[49m\n",
      "\u001b[1;31mValueError\u001b[0m: dictionary update sequence element #0 has length 8; 2 is required"
     ]
    }
   ],
   "source": [
    "# improperly storing a list within a dictionary\n",
    "sports = [\"baseball\", \"football\", \"hockey\", \"soccer\"]     # will produce error, no key\n",
    "sports_dict = dict(sports)"
   ]
  },
  {
   "cell_type": "code",
   "execution_count": 13,
   "id": "3b9b3501",
   "metadata": {},
   "outputs": [
    {
     "name": "stdout",
     "output_type": "stream",
     "text": [
      "{'name': 'Kirsten'}\n",
      "Kirsten\n"
     ]
    }
   ],
   "source": [
    "# storing a dictionary within a list and accessing it\n",
    "data = [\"John\", \"Dennis\", {\"name\" : \"Kirsten\"}]\n",
    "print(data[2])          # the dictionary is in index 2\n",
    "print(data[2][\"name\"])  # first access the index, then access the key"
   ]
  },
  {
   "cell_type": "code",
   "execution_count": 16,
   "id": "a28712d7",
   "metadata": {},
   "outputs": [
    {
     "name": "stdout",
     "output_type": "stream",
     "text": [
      "{'2018': 108, '2017': 93}\n",
      "108\n"
     ]
    }
   ],
   "source": [
    "# storing a dictionary within a dictionary and accessing it \n",
    "data = {\n",
    "    \"team\" : \"Boston Red Sox\",\n",
    "    \"wins\" : {\"2018\" : 108, \"2017\" : 93}\n",
    "}\n",
    "print(data[\"wins\"])           # will output the dictionary within the wins key\n",
    "print(data[\"wins\"][\"2018\"])   # first access the wins key, then the next key"
   ]
  },
  {
   "cell_type": "markdown",
   "id": "97b7f11f",
   "metadata": {},
   "source": [
    "# Working with Dictionaries"
   ]
  },
  {
   "cell_type": "code",
   "execution_count": 24,
   "id": "98d08826",
   "metadata": {},
   "outputs": [
    {
     "name": "stdout",
     "output_type": "stream",
     "text": [
      "Year: 2018 \t Color: Blue\n"
     ]
    }
   ],
   "source": [
    "# adding new key/value pairs to a dictionary\n",
    "car = {\"year\" : 2018}\n",
    "car[\"color\"] = \"Blue\"\n",
    "print(\"Year: {} \\t Color: {}\".format(car[\"year\"], car[\"color\"]))"
   ]
  },
  {
   "cell_type": "code",
   "execution_count": 25,
   "id": "e566a013",
   "metadata": {},
   "outputs": [
    {
     "name": "stdout",
     "output_type": "stream",
     "text": [
      "Year: 2018 \t Color: Red\n"
     ]
    }
   ],
   "source": [
    "# updating a value for a key/value pair that already exists\n",
    "car = {\"year\" : 2018, \"color\" : \"Blue\"}\n",
    "car[\"color\"] = \"Red\"\n",
    "print(\"Year: {} \\t Color: {}\".format(car[\"year\"], car[\"color\"]))"
   ]
  },
  {
   "cell_type": "code",
   "execution_count": 26,
   "id": "ec437a4e",
   "metadata": {},
   "outputs": [
    {
     "name": "stdout",
     "output_type": "stream",
     "text": [
      "{}\n"
     ]
    }
   ],
   "source": [
    "# deleting a key/value pair from a dictionary\n",
    "car = {\"year\" : 2018}\n",
    "try:\n",
    "    del car[\"year\"]\n",
    "    print(car)\n",
    "except:\n",
    "    print(\"That key does not exist\")"
   ]
  },
  {
   "cell_type": "code",
   "execution_count": 27,
   "id": "63451b42",
   "metadata": {},
   "outputs": [
    {
     "name": "stdout",
     "output_type": "stream",
     "text": [
      "name\n",
      "John\n",
      "age\n",
      "26\n"
     ]
    }
   ],
   "source": [
    "# looping over a dictionary via the keys\n",
    "person = {\"name\" : \"John\", \"age\" : 26}\n",
    "for key in person.keys():\n",
    "    print(key)\n",
    "    print(person[key])    # will output the value at the current key"
   ]
  },
  {
   "cell_type": "code",
   "execution_count": 28,
   "id": "014756d7",
   "metadata": {},
   "outputs": [
    {
     "name": "stdout",
     "output_type": "stream",
     "text": [
      "John\n",
      "26\n"
     ]
    }
   ],
   "source": [
    "# looping over a dictionary via the values\n",
    "person = {\"name\" : \"John\", \"age\" : 26}\n",
    "for value in person.values():\n",
    "    print(value)"
   ]
  },
  {
   "cell_type": "code",
   "execution_count": 29,
   "id": "35bac5f2",
   "metadata": {},
   "outputs": [
    {
     "name": "stdout",
     "output_type": "stream",
     "text": [
      "name : John\n",
      "age : 26\n"
     ]
    }
   ],
   "source": [
    "# looping over a dictinary via the key/value pair\n",
    "person = {\"name\" : \"John\", \"age\" : 26}\n",
    "for key, value in person.items():\n",
    "    print(\"{} : {}\".format(key, value))"
   ]
  },
  {
   "cell_type": "markdown",
   "id": "bba6bd14",
   "metadata": {},
   "source": [
    "# Tuples, Sets, Frozensets"
   ]
  },
  {
   "cell_type": "code",
   "execution_count": 36,
   "id": "1196bac8",
   "metadata": {},
   "outputs": [
    {
     "name": "stdout",
     "output_type": "stream",
     "text": [
      "<class 'tuple'> <class 'tuple'>\n"
     ]
    },
    {
     "ename": "TypeError",
     "evalue": "'tuple' object does not support item assignment",
     "output_type": "error",
     "traceback": [
      "\u001b[1;31m---------------------------------------------------------------------------\u001b[0m",
      "\u001b[1;31mTypeError\u001b[0m                                 Traceback (most recent call last)",
      "Cell \u001b[1;32mIn[36], line 5\u001b[0m\n\u001b[0;32m      3\u001b[0m t2 \u001b[38;5;241m=\u001b[39m \u001b[38;5;28;01mTrue\u001b[39;00m, \u001b[38;5;241m1\u001b[39m                 \u001b[38;5;66;03m# without parenthesis\u001b[39;00m\n\u001b[0;32m      4\u001b[0m \u001b[38;5;28mprint\u001b[39m(\u001b[38;5;28mtype\u001b[39m(t1), \u001b[38;5;28mtype\u001b[39m(t2))\n\u001b[1;32m----> 5\u001b[0m t1[\u001b[38;5;241m0\u001b[39m] \u001b[38;5;241m=\u001b[39m \u001b[38;5;241m1\u001b[39m\n",
      "\u001b[1;31mTypeError\u001b[0m: 'tuple' object does not support item assignment"
     ]
    }
   ],
   "source": [
    "# declaring a tuple\n",
    "t1 = (\"hello\", 2, \"hello\")   # with parenthesis\n",
    "t2 = True, 1                 # without parenthesis\n",
    "print(type(t1), type(t2))\n",
    "t1[0] = 1                    # will crash, tuples are immutable once declared"
   ]
  },
  {
   "cell_type": "code",
   "execution_count": 37,
   "id": "dfe4f052",
   "metadata": {},
   "outputs": [
    {
     "name": "stdout",
     "output_type": "stream",
     "text": [
      "<class 'set'> <class 'set'>\n",
      "{2, 3, 5}\n"
     ]
    }
   ],
   "source": [
    "# declaring a set\n",
    "s1 = set([1, 2, 3, 1]) # uses the set keyword and square brackets\n",
    "s2 = {4, 4, 5}         # uses curly brackets, like a dictionary   \n",
    "print(type(s1), type(s2))\n",
    "s1.add(5)              # using the add method to add new items to a set\n",
    "s1.remove(1)           # using the remove method to get rid of the value 1\n",
    "print(s1)              # notice when printed it removed the second \"1\" at the end"
   ]
  },
  {
   "cell_type": "code",
   "execution_count": 38,
   "id": "837dd8d3",
   "metadata": {},
   "outputs": [
    {
     "name": "stdout",
     "output_type": "stream",
     "text": [
      "<class 'frozenset'>\n",
      "frozenset({1, 2, 3, 4})\n"
     ]
    }
   ],
   "source": [
    "# declaring a frozenset\n",
    "fset = frozenset([1,2, 3, 4])\n",
    "print(type(fset))\n",
    "print(fset)"
   ]
  },
  {
   "cell_type": "markdown",
   "id": "80e2a226",
   "metadata": {},
   "source": [
    "# Reading & Writing Files"
   ]
  },
  {
   "cell_type": "code",
   "execution_count": 42,
   "id": "0d9d6d16",
   "metadata": {},
   "outputs": [
    {
     "name": "stdout",
     "output_type": "stream",
     "text": [
      "this is a test\n"
     ]
    }
   ],
   "source": [
    "# opening/creating and writing to a text file\n",
    "f = open(\"test.txt\", \"w+\")     # open file in writing and reading mode\n",
    "f.write(\"this is a test\")\n",
    "f.close()\n",
    "# reading from a text file\n",
    "f = open(\"test.txt\", \"r\")\n",
    "data = f.read()\n",
    "f.close()\n",
    "print(data)"
   ]
  },
  {
   "cell_type": "code",
   "execution_count": 45,
   "id": "44c99cde",
   "metadata": {},
   "outputs": [],
   "source": [
    "# opening/creating and writing to a csv file\n",
    "import csv\n",
    "\n",
    "with open('test.csv', mode='w', newline='') as f:\n",
    "    writer = csv.writer(f, delimiter=',')\n",
    "    writer.writerow(['Name', 'City'])\n",
    "    writer.writerow(['Craig Lou', 'Taiwan'])"
   ]
  },
  {
   "cell_type": "code",
   "execution_count": 46,
   "id": "80d6ddd5",
   "metadata": {},
   "outputs": [
    {
     "name": "stdout",
     "output_type": "stream",
     "text": [
      "['Name', 'City']\n",
      "['Craig Lou', 'Taiwan']\n"
     ]
    }
   ],
   "source": [
    "# reading from csv files\n",
    "\n",
    "with open('test.csv', mode='r') as f:\n",
    "    reader = csv.reader(f, delimiter=',')\n",
    "    \n",
    "    for row in reader:\n",
    "        print(row)"
   ]
  },
  {
   "cell_type": "markdown",
   "id": "7b2b08cf",
   "metadata": {},
   "source": [
    "# Friday Project: Creating a User Database with CSV Files"
   ]
  },
  {
   "cell_type": "code",
   "execution_count": 50,
   "id": "87e3b4cd",
   "metadata": {},
   "outputs": [
    {
     "name": "stdout",
     "output_type": "stream",
     "text": [
      "Thanks for using our software!\n"
     ]
    }
   ],
   "source": [
    "# import all necessary packages to be used\n",
    "import csv\n",
    "from IPython.display import clear_output\n",
    "\n",
    "# handle user registration and writing to csv\n",
    "def registerUser():\n",
    "    with open('users.csv', mode='a', newline='') as f:\n",
    "        writer = csv.writer(f, delimiter=',')\n",
    "        \n",
    "        print('To register, please enter your info:')\n",
    "        email = input('E-mail: ')\n",
    "        password = input('Password: ')\n",
    "        password2 = input('Re-type password: ')\n",
    "\n",
    "        clear_output()\n",
    "        \n",
    "        if password == password2:\n",
    "            writer.writerow([email, password])\n",
    "            print('You are now registered!')\n",
    "        else:\n",
    "            print('Something went wrong. Try again.')\n",
    "            \n",
    "# ask for user info and return true to login\n",
    "def loginUser():\n",
    "    print('To login, please enter your info:')\n",
    "    email = input('E-mail: ')\n",
    "    password = input('Password: ')\n",
    "    \n",
    "    clear_output()\n",
    "    \n",
    "    with open('users.csv', mode='r') as f:\n",
    "        reader = csv.reader(f, delimiter=',')\n",
    "        \n",
    "        for row in reader:\n",
    "            if row == [email, password]:\n",
    "                print('You are now logged in!')\n",
    "                return True\n",
    "    \n",
    "    print('Something went wrong, try again.')\n",
    "    return False\n",
    "            \n",
    "# variables for main loop\n",
    "active = True\n",
    "logged_in = False\n",
    "\n",
    "# main loop\n",
    "while active:\n",
    "    if logged_in:\n",
    "        print('1. Logout\\n2. Quit')\n",
    "    else:\n",
    "        print('1. Login\\n2. Register\\n3. Quit')\n",
    "    \n",
    "    choice = input('What would you like to do? ').lower()\n",
    "    \n",
    "    clear_output()\n",
    "    \n",
    "    if choice == 'register' and logged_in == False:\n",
    "        registerUser()\n",
    "    elif choice == 'login' and logged_in == False:\n",
    "        logged_in = loginUser()\n",
    "    elif choice == 'quit':\n",
    "        active = False\n",
    "        print('Thanks for using our software!')\n",
    "    elif choice == 'logout' and logged_in == True:\n",
    "        logged_in = False\n",
    "        print('You are now logged out.')\n",
    "    else:\n",
    "        print('Sorry, please try again!')"
   ]
  },
  {
   "cell_type": "markdown",
   "id": "d351191e",
   "metadata": {},
   "source": [
    "# Monday Exercises - Answers"
   ]
  },
  {
   "cell_type": "markdown",
   "id": "cfb02ca9",
   "metadata": {},
   "source": [
    "1. User Input: Ask the user for their name and age, and then create a dictionary with those key-value pairs. Output the dictionary once created."
   ]
  },
  {
   "cell_type": "code",
   "execution_count": 20,
   "id": "7c6e2570",
   "metadata": {},
   "outputs": [
    {
     "name": "stdout",
     "output_type": "stream",
     "text": [
      "What's your name? Bo\n",
      "How old are you? 39\n",
      "{'name': 'Bo', 'age': 39}\n"
     ]
    }
   ],
   "source": [
    "name = str(input(\"What's your name? \"))\n",
    "age = int(input(\"How old are you? \"))\n",
    "\n",
    "info = {\n",
    "    'name' : name,\n",
    "    'age' : age\n",
    "}\n",
    "\n",
    "print(info)"
   ]
  },
  {
   "cell_type": "markdown",
   "id": "d06013bd",
   "metadata": {},
   "source": [
    "2. Accessing Ingredients: Output all the ingredients from the following list within the “ingredients” key using a for loop:\n",
    "\n",
    ">>> pizza = {\n",
    ">>> 'ingredients': ['cheese', 'sausage', 'peppers']\n",
    ">>> }"
   ]
  },
  {
   "cell_type": "code",
   "execution_count": 23,
   "id": "5ec44091",
   "metadata": {},
   "outputs": [
    {
     "name": "stdout",
     "output_type": "stream",
     "text": [
      "cheese\n",
      "sausage\n",
      "peppers\n"
     ]
    }
   ],
   "source": [
    "pizza = {\n",
    "    'ingredients' : ['cheese', 'sausage', 'peppers']\n",
    "}\n",
    "\n",
    "for topping in pizza['ingredients']: \n",
    "    print(topping)"
   ]
  },
  {
   "cell_type": "markdown",
   "id": "94470448",
   "metadata": {},
   "source": [
    "# Tuesday Exercises - Answers"
   ]
  },
  {
   "cell_type": "markdown",
   "id": "89a60d59",
   "metadata": {},
   "source": [
    "1. User Input: Declare an empty dictionary. Ask the user for their name, address, and number. Add that information to the dictionary and iterate over it to show the user."
   ]
  },
  {
   "cell_type": "code",
   "execution_count": 31,
   "id": "b4b22a33",
   "metadata": {},
   "outputs": [
    {
     "name": "stdout",
     "output_type": "stream",
     "text": [
      "Who are you? Bo\n",
      "Where do you live? Baguio\n",
      "What is your numer? 39\n",
      "Here are your details Bo: \n",
      "\n",
      "name : Bo\n",
      "address : Baguio\n",
      "number : 39\n"
     ]
    }
   ],
   "source": [
    "user_info = {}\n",
    "\n",
    "name = str(input(\"Who are you? \"))\n",
    "address = str(input(\"Where do you live? \"))\n",
    "number = int(input(\"What is your numer? \"))\n",
    "\n",
    "user_info[\"name\"] = name\n",
    "user_info[\"address\"] = address\n",
    "user_info[\"number\"] = number\n",
    "\n",
    "print(\"Here are your details {}: \\n\".format(name))\n",
    "\n",
    "for key, value in user_info.items():\n",
    "    print(\"{} : {}\".format(key, value))"
   ]
  },
  {
   "cell_type": "markdown",
   "id": "86f9632c",
   "metadata": {},
   "source": [
    "2. Problem-Solving: What is wrong with the following code:\n",
    ">>> person = { 'name', 'John Smith' }\n",
    ">>> print(person['name'])"
   ]
  },
  {
   "cell_type": "code",
   "execution_count": 32,
   "id": "86be738a",
   "metadata": {},
   "outputs": [
    {
     "name": "stdout",
     "output_type": "stream",
     "text": [
      "John Smith\n"
     ]
    }
   ],
   "source": [
    "\"\"\"\n",
    "Wrong code: \n",
    "\n",
    ">>> person = { 'name', 'John Smith' }  # comma should be a colon\n",
    ">>> print(person['name'])\n",
    "\n",
    "\"\"\"\n",
    "# edited code \n",
    "\n",
    "person = { 'name' : 'John Smith' }  # comma should be a colon\n",
    "print(person['name'])"
   ]
  },
  {
   "cell_type": "markdown",
   "id": "7ea67ad9",
   "metadata": {},
   "source": [
    "# Wednesday Exercises - Answers"
   ]
  },
  {
   "cell_type": "markdown",
   "id": "0a61ccad",
   "metadata": {},
   "source": [
    "1. User Input: Ask the user to input as many bank account numbers as they’d like, and store them within a list initially. Once the user is done entering information, convert the list to a frozenset and print it out."
   ]
  },
  {
   "cell_type": "code",
   "execution_count": 39,
   "id": "553c3090",
   "metadata": {},
   "outputs": [
    {
     "name": "stdout",
     "output_type": "stream",
     "text": [
      "Enter an account number or quit: 21\n",
      "Enter an account number or quit: 22\n",
      "Enter an account number or quit: 23\n",
      "Enter an account number or quit: quit\n",
      "Account Number: 21\n",
      "Account Number: 22\n",
      "Account Number: 23\n"
     ]
    }
   ],
   "source": [
    "accounts = []\n",
    "done = False\n",
    "\n",
    "while not done:\n",
    "    ans = input('Enter an account number or quit: ').lower()\n",
    "    \n",
    "    if ans == 'quit':\n",
    "        done = True\n",
    "        \n",
    "        accounts = frozenset(accounts)\n",
    "        for acc in accounts:\n",
    "            print(\"Account Number: {}\".format(acc))\n",
    "            \n",
    "    else:\n",
    "        accounts.append(ans)"
   ]
  },
  {
   "cell_type": "markdown",
   "id": "0c46e3c8",
   "metadata": {},
   "source": [
    "2. Conversion: Convert the following list into a set of unique values. Print it out after to check there are no duplicates:\n",
    "\n",
    ">>> nums = [3, 4, 3, 7, 10]"
   ]
  },
  {
   "cell_type": "code",
   "execution_count": 41,
   "id": "d5cc7ee3",
   "metadata": {},
   "outputs": [
    {
     "name": "stdout",
     "output_type": "stream",
     "text": [
      "{10, 3, 4, 7}\n"
     ]
    }
   ],
   "source": [
    "nums = [3, 4, 3, 7, 10]\n",
    "\n",
    "nums = set(nums)\n",
    "\n",
    "print(nums)"
   ]
  },
  {
   "cell_type": "markdown",
   "id": "795f684e",
   "metadata": {},
   "source": [
    "# Thursday Exercises - Answers"
   ]
  },
  {
   "cell_type": "markdown",
   "id": "bb3a42ed",
   "metadata": {},
   "source": [
    "1. User Input: Ask a user for their favorite number, and save it to a text file."
   ]
  },
  {
   "cell_type": "code",
   "execution_count": 48,
   "id": "d6518e26",
   "metadata": {
    "scrolled": true
   },
   "outputs": [
    {
     "name": "stdout",
     "output_type": "stream",
     "text": [
      "What's your favorite number? 21\n",
      "21\n"
     ]
    }
   ],
   "source": [
    "favenum = str(input(\"What's your favorite number? \"))\n",
    "\n",
    "f = open(\"favenum.txt\", \"w+\")     \n",
    "f.write(favenum)\n",
    "f.close()\n",
    "\n",
    "f = open(\"favenum.txt\", \"r\")\n",
    "data = f.read()\n",
    "f.close()\n",
    "print(data)"
   ]
  },
  {
   "cell_type": "markdown",
   "id": "21cef183",
   "metadata": {},
   "source": [
    "2. Data Dumping: Using the dictionary of following data, save the information to a csv file with the keys as the headers and the values as the rows of data:\n",
    "\n",
    ">>> data = {\n",
    "'name' : ['Dave', 'Dennis', 'Peter', 'Jess'],\n",
    "'language': ['Python', 'C', 'Java', 'Python']\n",
    "}"
   ]
  },
  {
   "cell_type": "code",
   "execution_count": 49,
   "id": "8cf2d21b",
   "metadata": {},
   "outputs": [],
   "source": [
    "data = {\n",
    "    'name' : ['Dave', 'Dennis', 'Peter', \"Jess\"],\n",
    "    'language' : ['Python', 'C', 'Java', 'Python']\n",
    "}\n",
    "\n",
    "import csv\n",
    "\n",
    "with open('data.csv', mode='w', newline='') as f:\n",
    "    writer = csv.writer(f, delimiter=',')\n",
    "    writer.writerow(data.keys())\n",
    "    \n",
    "    for i in range(len(data['name'])):\n",
    "        writer.writerow([data['name'][i], data['language'][i]])"
   ]
  },
  {
   "cell_type": "markdown",
   "id": "d896c44d",
   "metadata": {},
   "source": [
    "# End of Week Exercises - Answers"
   ]
  },
  {
   "cell_type": "markdown",
   "id": "b8bae4c2",
   "metadata": {},
   "source": [
    "1. Changing Passwords: Add a function called \"changePassword\" to the project from Friday that will allow users to change their password when logged in."
   ]
  },
  {
   "cell_type": "code",
   "execution_count": 52,
   "id": "bb12f154",
   "metadata": {},
   "outputs": [
    {
     "name": "stdout",
     "output_type": "stream",
     "text": [
      "Thanks for using our software!\n"
     ]
    }
   ],
   "source": [
    "# import all necessary packages to be used\n",
    "import csv\n",
    "from IPython.display import clear_output\n",
    "\n",
    "# handle user changing password\n",
    "def changePassword():\n",
    "    ''' \n",
    "        This function must confirm email and pass, then read data and save to local list\n",
    "        because you cannot change a single value, you must save all data, then overwrite\n",
    "        the entire file all together.\n",
    "    '''\n",
    "    \n",
    "    email = input('Please confirm your e-mail: ')\n",
    "    password = input('Please confirm your current password: ')\n",
    "    \n",
    "    emails = []\n",
    "    passwords = []\n",
    "    found = False\n",
    "\n",
    "    with open('users.csv', mode='r') as f:\n",
    "        reader = csv.reader(f, delimiter=',')\n",
    "        \n",
    "        for row in reader:\n",
    "            if row == [email, password]:\n",
    "                found = True\n",
    "            elif row:\n",
    "                emails.append(row[0])\n",
    "                passwords.append(row[1])\n",
    "    \n",
    "    if found:\n",
    "        new_pass = input('What would you like to change your password to? ')\n",
    "        \n",
    "        emails.append(email)\n",
    "        passwords.append(new_pass)\n",
    "        \n",
    "        with open('users.csv', mode='w') as f:\n",
    "            writer = csv.writer(f, delimiter=',')\n",
    "            \n",
    "            for i in range(len(emails)):\n",
    "                writer.writerow([emails[i], passwords[i]])\n",
    "    else:\n",
    "        print('Sorry those credentials were incorrect.')\n",
    "\n",
    "# handle user registration and writing to csv\n",
    "def registerUser():\n",
    "    with open('users.csv', mode='a', newline='') as f:\n",
    "        writer = csv.writer(f, delimiter=',')\n",
    "        \n",
    "        print('To register, please enter your info:')\n",
    "        email = input('E-mail: ')\n",
    "        password = input('Password: ')\n",
    "        password2 = input('Re-type password: ')\n",
    "\n",
    "        clear_output()\n",
    "        \n",
    "        if password == password2:\n",
    "            writer.writerow([email, password])\n",
    "            print('You are now registered!')\n",
    "        else:\n",
    "            print('Something went wrong. Try again.')\n",
    "            \n",
    "# ask for user info and return true to login\n",
    "def loginUser():\n",
    "    print('To login, please enter your info:')\n",
    "    email = input('E-mail: ')\n",
    "    password = input('Password: ')\n",
    "    \n",
    "    clear_output()\n",
    "    \n",
    "    with open('users.csv', mode='r') as f:\n",
    "        reader = csv.reader(f, delimiter=',')\n",
    "        \n",
    "        for row in reader:\n",
    "            if row == [email, password]:\n",
    "                print('You are now logged in!')\n",
    "                return True\n",
    "    \n",
    "    print('Something went wrong, try again.')\n",
    "    return False\n",
    "            \n",
    "# variables for main loop\n",
    "active = True\n",
    "logged_in = False\n",
    "\n",
    "# main loop\n",
    "while active:\n",
    "    if logged_in:\n",
    "        print('1. Logout\\n2. Change Password\\n3. Quit')\n",
    "    else:\n",
    "        print('1. Login\\n2. Register\\n3. Quit')\n",
    "    \n",
    "    choice = input('What would you like to do? ').lower()\n",
    "    \n",
    "    clear_output()\n",
    "    \n",
    "    if choice == 'register' and logged_in == False:\n",
    "        registerUser()\n",
    "    elif choice == 'login' and logged_in == False:\n",
    "        logged_in = loginUser()\n",
    "    elif choice == 'quit':\n",
    "        active = False\n",
    "        print('Thanks for using our software!')\n",
    "    elif choice == 'logout' and logged_in == True:\n",
    "        logged_in = False\n",
    "        print('You are now logged out.')\n",
    "    elif choice == 'change password' and logged_in == True:\n",
    "        changePassword()\n",
    "    else:\n",
    "        print('Sorry, please try again!')"
   ]
  },
  {
   "cell_type": "markdown",
   "id": "2e931c1a",
   "metadata": {},
   "source": [
    "2. Favorite Food: Write a new program that will ask users what their favorite food is. Save the answers to a csv file called \"favorite_food.csv\". After answering, display a table of tallied results. Example of table:\n",
    "\n",
    "Favorite Food?              # of Votes\n",
    "Turkey                            5\n",
    "Salad                              3"
   ]
  },
  {
   "cell_type": "code",
   "execution_count": 53,
   "id": "838dafd4",
   "metadata": {},
   "outputs": [
    {
     "name": "stdout",
     "output_type": "stream",
     "text": [
      "Here are the results so far...\n",
      "bacon: 1\n",
      "pancakes: 1\n"
     ]
    }
   ],
   "source": [
    "def saveFood():\n",
    "    ans = input('What is your favorite food? ')\n",
    "    \n",
    "    with open('favorite_food.csv', mode='a', newline='') as f:\n",
    "        writer = csv.writer(f, delimiter=',')\n",
    "        \n",
    "        writer.writerow([ans])\n",
    "    \n",
    "    print('Food added!')\n",
    "    \n",
    "def countFood():\n",
    "    food_count = {}\n",
    "    \n",
    "    with open('favorite_food.csv', mode='r') as f:\n",
    "        reader = csv.reader(f, delimiter=',')\n",
    "        \n",
    "        for row in reader:\n",
    "            if row[0].lower() in food_count:\n",
    "                food_count[row[0].lower()] += 1\n",
    "            else:\n",
    "                food_count[row[0].lower()] = 1\n",
    "                \n",
    "    return food_count\n",
    "\n",
    "def main():\n",
    "    while input('Would you like to add more? ').lower() != 'no':\n",
    "        saveFood()\n",
    "        \n",
    "    clear_output()\n",
    "    \n",
    "    print('Here are the results so far...')\n",
    "    \n",
    "    food_count = countFood()\n",
    "    \n",
    "    for k, v in food_count.items():\n",
    "        print(\"{}: {}\".format(k, v))\n",
    "        \n",
    "main()"
   ]
  }
 ],
 "metadata": {
  "kernelspec": {
   "display_name": "Python 3 (ipykernel)",
   "language": "python",
   "name": "python3"
  },
  "language_info": {
   "codemirror_mode": {
    "name": "ipython",
    "version": 3
   },
   "file_extension": ".py",
   "mimetype": "text/x-python",
   "name": "python",
   "nbconvert_exporter": "python",
   "pygments_lexer": "ipython3",
   "version": "3.10.9"
  }
 },
 "nbformat": 4,
 "nbformat_minor": 5
}
