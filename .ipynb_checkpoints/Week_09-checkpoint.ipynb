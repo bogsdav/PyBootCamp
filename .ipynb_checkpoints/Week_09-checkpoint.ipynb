{
 "cells": [
  {
   "cell_type": "markdown",
   "id": "b88a36ac",
   "metadata": {},
   "source": [
    "# Generators and Iterators"
   ]
  },
  {
   "cell_type": "code",
   "execution_count": 1,
   "id": "bab6edb2",
   "metadata": {},
   "outputs": [
    {
     "name": "stdout",
     "output_type": "stream",
     "text": [
      "baseball\n",
      "soccer\n",
      "football\n",
      "hockey\n",
      "basketball\n"
     ]
    },
    {
     "ename": "StopIteration",
     "evalue": "",
     "output_type": "error",
     "traceback": [
      "\u001b[1;31m---------------------------------------------------------------------------\u001b[0m",
      "\u001b[1;31mStopIteration\u001b[0m                             Traceback (most recent call last)",
      "Cell \u001b[1;32mIn[1], line 13\u001b[0m\n\u001b[0;32m     10\u001b[0m \u001b[38;5;28;01mfor\u001b[39;00m item \u001b[38;5;129;01min\u001b[39;00m my_iter:\n\u001b[0;32m     11\u001b[0m     \u001b[38;5;28mprint\u001b[39m(item)\n\u001b[1;32m---> 13\u001b[0m \u001b[38;5;28mprint\u001b[39m(\u001b[38;5;28;43mnext\u001b[39;49m\u001b[43m(\u001b[49m\u001b[43mmy_iter\u001b[49m\u001b[43m)\u001b[49m)\n",
      "\u001b[1;31mStopIteration\u001b[0m: "
     ]
    }
   ],
   "source": [
    "# creating a basic iterator from an iterable\n",
    "sports = [\"baseball\", \"soccer\", \"football\", \"hockey\", \"basketball\"]\n",
    "\n",
    "my_iter = iter(sports)\n",
    "\n",
    "print(next(my_iter))     # outputs first item\n",
    "\n",
    "print(next(my_iter))     # outputs second item\n",
    "\n",
    "for item in my_iter:\n",
    "    print(item)\n",
    "    \n",
    "print(next(my_iter))     # will produce error"
   ]
  },
  {
   "cell_type": "code",
   "execution_count": 3,
   "id": "3281a595",
   "metadata": {},
   "outputs": [
    {
     "name": "stdout",
     "output_type": "stream",
     "text": [
      "a\n",
      "b\n",
      "c\n",
      "d\n",
      "e\n",
      "f\n",
      "g\n",
      "h\n",
      "i\n",
      "j\n",
      "k\n",
      "l\n",
      "m\n",
      "n\n",
      "o\n",
      "p\n",
      "q\n",
      "r\n",
      "s\n",
      "t\n",
      "u\n",
      "v\n",
      "w\n",
      "x\n",
      "y\n",
      "z\n"
     ]
    }
   ],
   "source": [
    "# creating our own iterator\n",
    "\n",
    "class Alphabet():\n",
    "    def __iter__(self):\n",
    "        self.letters = 'abcdefghijklmnopqrstuvwxyz'\n",
    "        self.index = 0\n",
    "        return self\n",
    "    \n",
    "    def __next__(self):\n",
    "        if self.index <= 25:\n",
    "            char = self.letters[self.index]\n",
    "            self.index += 1\n",
    "            return char\n",
    "        else:\n",
    "            raise StopIteration\n",
    "    \n",
    "for char in Alphabet():\n",
    "    print(char)"
   ]
  },
  {
   "cell_type": "code",
   "execution_count": 4,
   "id": "8cb035c1",
   "metadata": {},
   "outputs": [
    {
     "name": "stdout",
     "output_type": "stream",
     "text": [
      "Generator Start Value: 0\n",
      "For Loop X Value: 0\n",
      "Generator Start Value: 1\n",
      "For Loop X Value: 1\n",
      "Generator Start Value: 2\n",
      "For Loop X Value: 2\n",
      "Generator Start Value: 3\n",
      "For Loop X Value: 3\n",
      "Generator Start Value: 4\n",
      "For Loop X Value: 4\n"
     ]
    }
   ],
   "source": [
    "# creating our own range generator with start, stop, and step parameters\n",
    "def myRange(stop, start=0, step=1):\n",
    "    while start < stop: \n",
    "        print(\"Generator Start Value: {}\".format(start))\n",
    "        yield start\n",
    "        start += step    # increment start, otherwise infinite loop\n",
    "        \n",
    "for x in myRange(5):\n",
    "    print(\"For Loop X Value: {}\".format(x))"
   ]
  },
  {
   "cell_type": "markdown",
   "id": "fd0d0b86",
   "metadata": {},
   "source": [
    "# Decorators"
   ]
  },
  {
   "cell_type": "code",
   "execution_count": 7,
   "id": "827538e1",
   "metadata": {},
   "outputs": [
    {
     "name": "stdout",
     "output_type": "stream",
     "text": [
      "======\n",
      "John!\n",
      "======\n"
     ]
    }
   ],
   "source": [
    "# creating and applying our own decorator using the @ symbol\n",
    "def decorator(func):\n",
    "    def wrap():\n",
    "        print(\"======\")\n",
    "        func()\n",
    "        print(\"======\")\n",
    "    return wrap\n",
    "@decorator\n",
    "def printName():\n",
    "    print(\"John!\")\n",
    "printName()"
   ]
  },
  {
   "cell_type": "code",
   "execution_count": 8,
   "id": "e766259a",
   "metadata": {},
   "outputs": [
    {
     "name": "stdout",
     "output_type": "stream",
     "text": [
      "Hello!\n",
      "Hello!\n",
      "Hello!\n",
      "Hello!\n"
     ]
    }
   ],
   "source": [
    "# creating a decorator that takes in parameters\n",
    "def run_times(num):\n",
    "    def wrap(func):\n",
    "        for i in range(num):\n",
    "            func()\n",
    "    return wrap\n",
    "@run_times(4)\n",
    "def sayHello():\n",
    "    print(\"Hello!\")"
   ]
  },
  {
   "cell_type": "code",
   "execution_count": 9,
   "id": "7e4573b6",
   "metadata": {},
   "outputs": [
    {
     "name": "stdout",
     "output_type": "stream",
     "text": [
      "Happy birthday Paul, you are now 44.\n"
     ]
    }
   ],
   "source": [
    "# creating a decorator for a function that accepts parameters\n",
    "def birthday(func):\n",
    "    def wrap(name, age):\n",
    "        func(name, age + 1)\n",
    "    return wrap\n",
    "@birthday\n",
    "def celebrate(name, age):\n",
    "    print(\"Happy birthday {}, you are now {}.\".format(name, age))\n",
    "celebrate(\"Paul\", 43)\n",
    "    "
   ]
  },
  {
   "cell_type": "code",
   "execution_count": 11,
   "id": "6101ab35",
   "metadata": {},
   "outputs": [
    {
     "name": "stdout",
     "output_type": "stream",
     "text": [
      "What is the password? password\n",
      "Access Denied\n"
     ]
    }
   ],
   "source": [
    "# real world sim, restricting function access\n",
    "def login_required(func):\n",
    "    def wrap(user):\n",
    "        password = input(\"What is the password? \")\n",
    "        if password == user[\"password\"]:\n",
    "            func(user)\n",
    "        else:\n",
    "            print(\"Access Denied\")\n",
    "    return wrap\n",
    "@login_required\n",
    "def restrictedFunc(user):\n",
    "    print(\"Access granted, welcome {}\".format(user[\"name\"]))\n",
    "    \n",
    "user = {\"name\" : \"Jess\", \"password\" : \"ilywpf\"}\n",
    "restrictedFunc(user)"
   ]
  },
  {
   "cell_type": "markdown",
   "id": "3df11ac8",
   "metadata": {},
   "source": [
    "# Modules"
   ]
  },
  {
   "cell_type": "code",
   "execution_count": 14,
   "id": "2275cf5e",
   "metadata": {},
   "outputs": [
    {
     "name": "stdout",
     "output_type": "stream",
     "text": [
      "2\n",
      "3\n",
      "3.141592653589793\n"
     ]
    }
   ],
   "source": [
    "# import the entire math module\n",
    "import math\n",
    "print(math.floor(2.5))     # rounds down\n",
    "print(math.ceil(2.5))      # rounds up\n",
    "print(math.pi)"
   ]
  },
  {
   "cell_type": "code",
   "execution_count": 15,
   "id": "f58a1a76",
   "metadata": {},
   "outputs": [
    {
     "name": "stdout",
     "output_type": "stream",
     "text": [
      "2\n",
      "3.141592653589793\n"
     ]
    }
   ],
   "source": [
    "# importing only variables and functions rather than an entire module, better efficiency\n",
    "from math import floor, pi\n",
    "print(floor(2.5))\n",
    "# print( ceil(2.5) ) will cause error because we only imported floor and pi, not ceil and not all of math\n",
    "print(pi)"
   ]
  },
  {
   "cell_type": "code",
   "execution_count": 16,
   "id": "1761bb57",
   "metadata": {},
   "outputs": [
    {
     "name": "stdout",
     "output_type": "stream",
     "text": [
      "2\n"
     ]
    }
   ],
   "source": [
    "# using the 'as' keyword to create an alias for imports\n",
    "from math import floor as f \n",
    "print(f(2.5))"
   ]
  },
  {
   "cell_type": "code",
   "execution_count": 17,
   "id": "35358231",
   "metadata": {},
   "outputs": [
    {
     "name": "stdout",
     "output_type": "stream",
     "text": [
      "5 10\n",
      "John Smith is 37 years old.\n"
     ]
    }
   ],
   "source": [
    "# using the run command with Jupyter Notebook to access our own modules\n",
    "%run test.py\n",
    "\n",
    "print(length, width)\n",
    "printInfo('John Smith', 37)"
   ]
  },
  {
   "cell_type": "markdown",
   "id": "23c22594",
   "metadata": {},
   "source": [
    "# Understanding Algorithmic Complexity"
   ]
  },
  {
   "cell_type": "code",
   "execution_count": 21,
   "id": "f59c6321",
   "metadata": {},
   "outputs": [],
   "source": [
    "# creating data collections to test for time complexity \n",
    "import time \n",
    "d = { }  # generate fake dictionary\n",
    "for i in range(10000000):\n",
    "    d[i] = \"value\"\n",
    "big_list = [x for x in range(10000000)] # generate fake list"
   ]
  },
  {
   "cell_type": "code",
   "execution_count": 22,
   "id": "bd4e5fd8",
   "metadata": {},
   "outputs": [
    {
     "name": "stdout",
     "output_type": "stream",
     "text": [
      "Found in dictionary\n",
      "Elapsed time for dictionary: 0.0\n",
      "Found in list\n",
      "Elapsed time for list: 0.09215188026428223\n"
     ]
    }
   ],
   "source": [
    "# retrieving information and tracking time to see which is faster\n",
    "\n",
    "start_time = time.time()    # tracking time for dictionary\n",
    "\n",
    "if 9999999 in d:\n",
    "    print('Found in dictionary')\n",
    "\n",
    "end_time = time.time() - start_time\n",
    "\n",
    "print('Elapsed time for dictionary: {}'.format(end_time))\n",
    "\n",
    "start_time = time.time()  # tracking time for list\n",
    "\n",
    "if 9999999 in big_list:\n",
    "    print('Found in list')\n",
    "\n",
    "end_time = time.time() - start_time\n",
    "\n",
    "print('Elapsed time for list: {}'.format(end_time))"
   ]
  },
  {
   "cell_type": "code",
   "execution_count": 24,
   "id": "d6476745",
   "metadata": {},
   "outputs": [],
   "source": [
    "# testing a bubble sort vs. insertion sort\n",
    "\n",
    "def bubbleSort(aList):\n",
    "    for i in range(len(aList)):\n",
    "        switched = False\n",
    "        for j in range(len(aList) - 1):\n",
    "            if aList[j] > aList[j + 1]:\n",
    "                aList[j], aList[j + 1] = aList[j + 1], aList[j]\n",
    "                switched = True\n",
    "        if switched == False:\n",
    "            break\n",
    "    return aList\n",
    "\n",
    "def insertionSort(aList):\n",
    "    for i in range(1, len(aList)):\n",
    "        if aList[i] < aList[i - 1]:\n",
    "            for j in range(i, 0, -1):\n",
    "                if aList[j] < aList[j - 1]:\n",
    "                    aList[j], aList[j - 1] = aList[j - 1], aList[j]\n",
    "                else:\n",
    "                    break\n",
    "    return aList"
   ]
  },
  {
   "cell_type": "code",
   "execution_count": 25,
   "id": "0844d58a",
   "metadata": {},
   "outputs": [
    {
     "name": "stdout",
     "output_type": "stream",
     "text": [
      "Elapsed time for Bubble Sort: 2.592766284942627\n",
      "Elapsed time for Insertion Sort: 0.0\n"
     ]
    }
   ],
   "source": [
    "# calling bubble sort and insertion sort to test time complexity\n",
    "from random import randint\n",
    "\n",
    "nums = [randint(0, 100) for x in range(5000)]\n",
    "\n",
    "start_time = time.time()  # tracking time bubble sort\n",
    "bubbleSort(nums)\n",
    "end_time = time.time() - start_time\n",
    "print('Elapsed time for Bubble Sort: {}'.format(end_time))\n",
    "\n",
    "start_time = time.time()  # tracking time insertion sort\n",
    "insertionSort(nums)\n",
    "end_time = time.time() - start_time\n",
    "print('Elapsed time for Insertion Sort: {}'.format(end_time))"
   ]
  },
  {
   "cell_type": "markdown",
   "id": "207d3f71",
   "metadata": {},
   "source": [
    "# Monday Exercises - Answers"
   ]
  },
  {
   "cell_type": "markdown",
   "id": "4bc2810d",
   "metadata": {},
   "source": [
    "1. Reverse Iteration: Create an iterator that takes in a list, and when iterated over, it returns the information in a reverse order. Hint: When accepting arguments into an iterator, you need to use the init method, as well as iter and next. The following call should result in “5, 4, 3, 2, 1”.\n",
    "\n",
    ">>> for i in RevIter( [ 1, 2, 3, 4, 5 ] ):"
   ]
  },
  {
   "cell_type": "code",
   "execution_count": 5,
   "id": "99a7b71b",
   "metadata": {},
   "outputs": [
    {
     "name": "stdout",
     "output_type": "stream",
     "text": [
      "5\n",
      "4\n",
      "3\n",
      "2\n",
      "1\n"
     ]
    }
   ],
   "source": [
    "# creating an iterator that will iterate an iterable in reverse direction\n",
    "\n",
    "class ReverseIter():\n",
    "    def __init__(self, items):\n",
    "        self.items = items\n",
    "        self.i = len(items) - 1\n",
    "    \n",
    "    def __iter__(self):\n",
    "        return self\n",
    "    \n",
    "    def __next__(self):\n",
    "        if self.i >= 0:\n",
    "            item = self.items[self.i]\n",
    "            self.i -= 1\n",
    "            return item\n",
    "        else:\n",
    "            raise StopIteration\n",
    "            \n",
    "rev_iter = ReverseIter([1, 2, 3, 4, 5])\n",
    "\n",
    "\n",
    "for num in rev_iter:\n",
    "    print(num)"
   ]
  },
  {
   "cell_type": "markdown",
   "id": "d60c811f",
   "metadata": {},
   "source": [
    "2. Squares: Create a generator that acts like the range function, except it yields a squared number every time. The result of the following call should be “0, 1, 4, 16”.\n",
    "\n",
    ">>> for i in range(4):"
   ]
  },
  {
   "cell_type": "code",
   "execution_count": 6,
   "id": "c5697cf7",
   "metadata": {},
   "outputs": [
    {
     "name": "stdout",
     "output_type": "stream",
     "text": [
      "0\n",
      "1\n",
      "4\n",
      "9\n",
      "16\n"
     ]
    }
   ],
   "source": [
    "def squared(n):\n",
    "    for i in range(n + 1):\n",
    "        yield i**2\n",
    "        \n",
    "for x in squared(4):\n",
    "    print(x)"
   ]
  },
  {
   "cell_type": "markdown",
   "id": "a3448785",
   "metadata": {},
   "source": [
    "# Tuesday Exercises - Answers"
   ]
  },
  {
   "cell_type": "markdown",
   "id": "c335b8b9",
   "metadata": {},
   "source": [
    "1. User Input: Create a decorator that will ask the user for a number, and run the function it is attached to only if the number is less than 100. The function should simply output “Less than 100”. Use the function declaration in the following:\n",
    "\n",
    ">>> @decorator\n",
    ">>> def numbers( ):\n",
    ">>> print(\"Less than 100\")"
   ]
  },
  {
   "cell_type": "code",
   "execution_count": 12,
   "id": "259a2afb",
   "metadata": {},
   "outputs": [
    {
     "name": "stdout",
     "output_type": "stream",
     "text": [
      "Enter a number: 21\n",
      "Less than 100\n"
     ]
    }
   ],
   "source": [
    "def decorator(f):\n",
    "    def wrap():\n",
    "        num = int(input(\"Enter a number: \"))\n",
    "        if num < 100:\n",
    "            f()\n",
    "    return wrap\n",
    "\n",
    "@decorator\n",
    "def numbers():\n",
    "    print(\"Less than 100\")\n",
    "    \n",
    "numbers()"
   ]
  },
  {
   "cell_type": "markdown",
   "id": "30cd2eb0",
   "metadata": {},
   "source": [
    "2. Creating a Route: Create a decorator that takes in a string as an argument with a wrap function that takes in func. Have the wrap function print out the string, and run the function passed in. The function passed in doesn’t need to do anything. In Flask, you can create a page by using decorators that accept a URL string. Use the function declaration in the following to start:\n",
    "\n",
    ">>> @route(\"/index\")\n",
    ">>> def index( ):\n",
    ">>> print(\"This is how web pages are made in Flask\")"
   ]
  },
  {
   "cell_type": "code",
   "execution_count": 13,
   "id": "14c621fd",
   "metadata": {},
   "outputs": [
    {
     "name": "stdout",
     "output_type": "stream",
     "text": [
      "/index\n",
      "This is how web pages are made in Flask\n"
     ]
    }
   ],
   "source": [
    "def route(endpoint):\n",
    "    def wrap(f):\n",
    "        print(endpoint)\n",
    "        f()\n",
    "    return wrap\n",
    "\n",
    "@route(\"/index\")\n",
    "def index():\n",
    "    print(\"This is how web pages are made in Flask\")"
   ]
  },
  {
   "cell_type": "markdown",
   "id": "66f02303",
   "metadata": {},
   "source": [
    "# Wednesday Exercises - Answers"
   ]
  },
  {
   "cell_type": "markdown",
   "id": "b0f6e1a1",
   "metadata": {},
   "source": [
    "1. Time Module: Import the time module and call the sleep function. Make the cell sleep for 5 seconds, and then print “Time module imported”. Although we haven’t covered this module, this exercise will provide good practice for you to try and work with a module on your own. Feel free to use Google, Quora, etc."
   ]
  },
  {
   "cell_type": "code",
   "execution_count": 18,
   "id": "b404aec2",
   "metadata": {},
   "outputs": [
    {
     "name": "stdout",
     "output_type": "stream",
     "text": [
      "Time module imported\n"
     ]
    }
   ],
   "source": [
    "import time\n",
    "\n",
    "time.sleep(5)\n",
    "\n",
    "print(\"Time module imported\")"
   ]
  },
  {
   "cell_type": "markdown",
   "id": "4980def7",
   "metadata": {},
   "source": [
    "2. Calculating Area: Create a module named “calculation.py” that has a single function within it. That function should take in two parameters and return the product of them. We can imagine that we’re trying to calculate the area of a rectangle and it needs to take in the length and width properties. Run the module within Jupyter Notebook, and use the following function call within the cell:\n",
    "\n",
    ">>> calcArea(15, 30)"
   ]
  },
  {
   "cell_type": "code",
   "execution_count": 20,
   "id": "74d7760b",
   "metadata": {},
   "outputs": [
    {
     "name": "stdout",
     "output_type": "stream",
     "text": [
      "450\n"
     ]
    }
   ],
   "source": [
    "%run calculation.py\n",
    "\n",
    "print(calcArea(15, 30))"
   ]
  },
  {
   "cell_type": "markdown",
   "id": "176b1924",
   "metadata": {},
   "source": [
    "# Thursday Exercises - Answers"
   ]
  },
  {
   "cell_type": "markdown",
   "id": "154ab731",
   "metadata": {},
   "source": [
    "1. Merge Sort: Do some research and try to find out the \"Big-O\" representation for a Merge Sort algorithm."
   ]
  },
  {
   "cell_type": "code",
   "execution_count": null,
   "id": "d538285f",
   "metadata": {},
   "outputs": [],
   "source": [
    "Merge sort is O(nLogn)"
   ]
  },
  {
   "cell_type": "markdown",
   "id": "e9126221",
   "metadata": {},
   "source": [
    "2. Binary Search: What is the max number of guesses it would take for a Binary Search to find a number within a list of 10 million numbers?"
   ]
  },
  {
   "cell_type": "code",
   "execution_count": null,
   "id": "8df05e67",
   "metadata": {},
   "outputs": [],
   "source": [
    "nums = [x for x in range(10000000)]"
   ]
  },
  {
   "cell_type": "code",
   "execution_count": 26,
   "id": "f2a49ed3",
   "metadata": {},
   "outputs": [
    {
     "name": "stdout",
     "output_type": "stream",
     "text": [
      "# of items in list: 5000 \t\t # of guesses: 0\n",
      "# of items in list: 2500 \t\t # of guesses: 1\n",
      "# of items in list: 1250 \t\t # of guesses: 2\n",
      "# of items in list: 625 \t\t # of guesses: 3\n",
      "# of items in list: 312 \t\t # of guesses: 4\n",
      "# of items in list: 156 \t\t # of guesses: 5\n",
      "# of items in list: 78 \t\t # of guesses: 6\n"
     ]
    },
    {
     "data": {
      "text/plain": [
       "True"
      ]
     },
     "execution_count": 26,
     "metadata": {},
     "output_type": "execute_result"
    }
   ],
   "source": [
    "def binarySearch(aList, num):\n",
    "    guesses = 0\n",
    "    \n",
    "    while aList:\n",
    "        print(\"# of items in list: {} \\t\\t # of guesses: {}\".format(len(aList), guesses))\n",
    "        guesses += 1\n",
    "        \n",
    "        mid = len(aList) // 2\n",
    "\n",
    "        if aList[mid] == num:\n",
    "            return True\n",
    "        elif aList[mid] > num:\n",
    "            aList = aList[ : mid ]\n",
    "        elif aList[mid] < num:\n",
    "            aList = aList[ mid + 1 : ]\n",
    "    \n",
    "    return False\n",
    "\n",
    "binarySearch(nums, 0)\n",
    "\n",
    "# the answer is 23"
   ]
  },
  {
   "cell_type": "markdown",
   "id": "e269665a",
   "metadata": {},
   "source": [
    "# End of Week Exercises - Answers"
   ]
  },
  {
   "cell_type": "markdown",
   "id": "0316ce7e",
   "metadata": {},
   "source": [
    "1. Side Borders: In the Friday project, we ended up creating borders above and below the information printed out. Try adding a star border on the sides as well now."
   ]
  },
  {
   "cell_type": "code",
   "execution_count": 27,
   "id": "f967b89c",
   "metadata": {},
   "outputs": [
    {
     "name": "stdout",
     "output_type": "stream",
     "text": [
      "**************************************************\n",
      "*\t\tCoding Temple, Inc.\t\t *\n",
      "*\t\t283 Franklin St.\t\t *\n",
      "*\t\tBoston, Ma\t\t\t *\n",
      "*================================================*\n",
      "*\tProduct Name\tProduct Price\t\t *\n",
      "*\tBooks\t\t$49.95\t\t\t *\n",
      "*\tComputer\t$579.99\t\t\t *\n",
      "*\tMonitor\t\t$124.89\t\t\t *\n",
      "*================================================*\n",
      "*\t\t\tTotal\t\t\t *\n",
      "*\t\t\t$754.83\t\t\t *\n",
      "*================================================*\n",
      "*\t\t\t\t\t\t *\n",
      "*\tThanks for shopping with us today!\t *\n",
      "*\t\t\t\t\t\t *\n",
      "**************************************************\n"
     ]
    }
   ],
   "source": [
    "# create a product and price for three items\n",
    "p1_name, p1_price = 'Books', 49.95\n",
    "p2_name, p2_price = 'Computer', 579.99\n",
    "p3_name, p3_price = 'Monitor', 124.89\n",
    "\n",
    "# create a company name and information\n",
    "company_name = 'coding temple, inc.'\n",
    "company_address = '283 Franklin St.'\n",
    "company_city = 'Boston, MA'\n",
    "\n",
    "# declare ending message\n",
    "message = 'Thanks for shopping with us today!'\n",
    "\n",
    "# create a top border\n",
    "print('*' * 50)\n",
    "\n",
    "# print company information first using format\n",
    "print('*\\t\\t{}\\t\\t *'.format(company_name.title()))\n",
    "print('*\\t\\t{}\\t\\t *'.format(company_address.title()))\n",
    "print('*\\t\\t{}\\t\\t\\t *'.format(company_city.title()))\n",
    "\n",
    "# print a line between sections\n",
    "print('*' + '=' * 48 + '*')\n",
    "\n",
    "# print out header for section of items\n",
    "print('*\\tProduct Name\\tProduct Price\\t\\t *')\n",
    "\n",
    "# create a print statement for each item\n",
    "print('*\\t{}\\t\\t${}\\t\\t\\t *'.format(p1_name.title(), p1_price))\n",
    "print('*\\t{}\\t${}\\t\\t\\t *'.format(p2_name.title(), p2_price))\n",
    "print('*\\t{}\\t\\t${}\\t\\t\\t *'.format(p3_name.title(), p3_price))\n",
    "\n",
    "# print a line between sections\n",
    "print('*' + '=' * 48 + '*')\n",
    "\n",
    "# print out header for section of total\n",
    "print('*\\t\\t\\tTotal\\t\\t\\t *')\n",
    "\n",
    "# calculate total price and print out\n",
    "total = p1_price + p2_price + p3_price\n",
    "print('*\\t\\t\\t${}\\t\\t\\t *'.format(total))\n",
    "\n",
    "# print a line between sections\n",
    "print('*' + '=' * 48 + '*')\n",
    "\n",
    "# output thank you message\n",
    "print('*\\t\\t\\t\\t\\t\\t *\\n*\\t{}\\t *\\n*\\t\\t\\t\\t\\t\\t *'.format(message))\n",
    "\n",
    "# create a bottom border\n",
    "print('*' * 50)"
   ]
  },
  {
   "cell_type": "markdown",
   "id": "066e8175",
   "metadata": {},
   "source": [
    "2. Researching Methods: We've gone over a few of the string manipulation methods that are widely used; however, there's many more, try looking up some and implementing them."
   ]
  },
  {
   "cell_type": "markdown",
   "id": "bacfee08",
   "metadata": {},
   "source": [
    "3. Reverse: Declare a variable equal to \"Hello\". Reverse the string using slicing. Try looking it up if you struggle. Tip: You can define a start, stop, and step when slicing."
   ]
  },
  {
   "cell_type": "code",
   "execution_count": 28,
   "id": "33ce3d81",
   "metadata": {},
   "outputs": [
    {
     "name": "stdout",
     "output_type": "stream",
     "text": [
      "olleH\n"
     ]
    }
   ],
   "source": [
    "s = \"Hello\"\n",
    "\n",
    "print(s[::-1])"
   ]
  }
 ],
 "metadata": {
  "kernelspec": {
   "display_name": "Python 3 (ipykernel)",
   "language": "python",
   "name": "python3"
  },
  "language_info": {
   "codemirror_mode": {
    "name": "ipython",
    "version": 3
   },
   "file_extension": ".py",
   "mimetype": "text/x-python",
   "name": "python",
   "nbconvert_exporter": "python",
   "pygments_lexer": "ipython3",
   "version": "3.10.9"
  }
 },
 "nbformat": 4,
 "nbformat_minor": 5
}
