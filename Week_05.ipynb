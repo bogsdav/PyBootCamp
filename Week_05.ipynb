{
 "cells": [
  {
   "cell_type": "markdown",
   "id": "ed130949",
   "metadata": {},
   "source": [
    "# Creating & Calling Functions"
   ]
  },
  {
   "cell_type": "code",
   "execution_count": 1,
   "id": "ba40096f",
   "metadata": {},
   "outputs": [
    {
     "name": "stdout",
     "output_type": "stream",
     "text": [
      "Name: John Smith\n",
      "Age: 45\n",
      "Name: John Smith\n",
      "Age: 45\n"
     ]
    }
   ],
   "source": [
    "# writing your first function\n",
    "def printInfo():        # defines what the function does when called\n",
    "\tprint(\"Name: John Smith\")\n",
    "\tprint(\"Age: 45\")\n",
    "printInfo()             # calls the function to run\n",
    "printInfo()             # calls the function again    "
   ]
  },
  {
   "cell_type": "code",
   "execution_count": 2,
   "id": "037b81b8",
   "metadata": {},
   "outputs": [
    {
     "name": "stdout",
     "output_type": "stream",
     "text": [
      "15\n"
     ]
    }
   ],
   "source": [
    "# performing a calculation in a function\n",
    "def calc():\n",
    "\tx, y = 5, 10\n",
    "\tprint(x + y)\n",
    "calc()        # will run the block of code within calc and output 15"
   ]
  },
  {
   "cell_type": "markdown",
   "id": "e5485260",
   "metadata": {},
   "source": [
    "# Parameters"
   ]
  },
  {
   "cell_type": "code",
   "execution_count": 3,
   "id": "7ad44a85",
   "metadata": {},
   "outputs": [
    {
     "name": "stdout",
     "output_type": "stream",
     "text": [
      "Your name is: John Smith\n",
      "Your name is: Amanda\n"
     ]
    }
   ],
   "source": [
    "# passing a single parameter into a function\n",
    "def printName(full_name):\n",
    "\tprint(\"Your name is: {}\".format(full_name))\n",
    "printName(\"John Smith\")\n",
    "printName(\"Amanda\")"
   ]
  },
  {
   "cell_type": "code",
   "execution_count": 4,
   "id": "a5b6ba22",
   "metadata": {},
   "outputs": [
    {
     "name": "stdout",
     "output_type": "stream",
     "text": [
      "5 + 8 = 13\n",
      "3.5 + 5.5 = 9.0\n"
     ]
    }
   ],
   "source": [
    "# passing multiple parameters into a function\n",
    "def addNums(num1, num2):\n",
    "\tresult = num1 + num2\n",
    "\tprint(\"{} + {} = {}\".format(num1, num2, result))\n",
    "addNums(5, 8)        # will output 13\n",
    "addNums(3.5, 5.5)    # will output 9.0"
   ]
  },
  {
   "cell_type": "code",
   "execution_count": 5,
   "id": "73785912",
   "metadata": {},
   "outputs": [
    {
     "name": "stdout",
     "output_type": "stream",
     "text": [
      "4\n",
      "16\n",
      "25\n",
      "100\n",
      "1\n",
      "9\n",
      "36\n"
     ]
    }
   ],
   "source": [
    "# using a function to square all information\n",
    "numbers1 = [2, 4, 5, 10]\n",
    "numbers2 = [1, 3, 6]\n",
    "def squares(nums):\n",
    "\tfor num in nums: \n",
    "\t\tprint(num**2)\n",
    "squares(numbers1)\n",
    "squares(numbers2)"
   ]
  },
  {
   "cell_type": "code",
   "execution_count": 6,
   "id": "2c6f5336",
   "metadata": {},
   "outputs": [
    {
     "name": "stdout",
     "output_type": "stream",
     "text": [
      "Area: 12.56\n"
     ]
    }
   ],
   "source": [
    "# setting default parameter values\n",
    "def calcArea(r, pi = 3.14):\n",
    "\tarea = pi * (r ** 2)\n",
    "\tprint(\"Area: {}\".format(area))\n",
    "calcArea(2)        # assuming radius is the value of 2"
   ]
  },
  {
   "cell_type": "code",
   "execution_count": 7,
   "id": "eaf6499b",
   "metadata": {},
   "outputs": [
    {
     "name": "stdout",
     "output_type": "stream",
     "text": [
      "John Smith\n",
      "John Paul Smith\n"
     ]
    }
   ],
   "source": [
    "# setting default parameter values\n",
    "def printName(first, last, middle = \"\"):\n",
    "\tif middle:\n",
    "\t\tprint(\"{} {} {}\".format(first, middle, last))\n",
    "\telse: \n",
    "\t\tprint(\"{} {}\".format(first, last))\n",
    "printName(\"John\", \"Smith\")\n",
    "printName(\"John\", \"Smith\", \"Paul\")    # will output with middle name"
   ]
  },
  {
   "cell_type": "code",
   "execution_count": 8,
   "id": "b31bb8ed",
   "metadata": {},
   "outputs": [
    {
     "name": "stdout",
     "output_type": "stream",
     "text": [
      "2.5\n",
      "5\n"
     ]
    }
   ],
   "source": [
    "# explicitly assigning values to parameters by referencing the name\n",
    "def addNums(num1, num2):\n",
    "\tprint(num2)\n",
    "\tprint(num1)\n",
    "addNums(5, num2 = 2.5)"
   ]
  },
  {
   "cell_type": "code",
   "execution_count": 9,
   "id": "6f1a8882",
   "metadata": {},
   "outputs": [
    {
     "name": "stdout",
     "output_type": "stream",
     "text": [
      "<class 'tuple'>\n",
      "5\n",
      "True\n",
      "Jess\n"
     ]
    }
   ],
   "source": [
    "# using args parameter to take in a tuple of arbitrary values\n",
    "def outputData(name, *args):\n",
    "    print(type(args))\n",
    "    for arg in args:\n",
    "        print(arg)\n",
    "outputData(\"John Smith\", 5, True, \"Jess\")"
   ]
  },
  {
   "cell_type": "code",
   "execution_count": 10,
   "id": "33d2d4c2",
   "metadata": {},
   "outputs": [
    {
     "name": "stdout",
     "output_type": "stream",
     "text": [
      "<class 'dict'>\n",
      "John Smith\n",
      "5\n"
     ]
    }
   ],
   "source": [
    "# using kwargs parameter to take in a dictionary of arbitrary values\n",
    "def outputData(**kwargs):\n",
    "\tprint(type(kwargs))\n",
    "\tprint(kwargs[\"name\"])\n",
    "\tprint(kwargs[\"num\"])\n",
    "outputData(name = \"John Smith\", num = 5,  b = True)"
   ]
  },
  {
   "cell_type": "markdown",
   "id": "4e85bef5",
   "metadata": {},
   "source": [
    "# Return Statement"
   ]
  },
  {
   "cell_type": "code",
   "execution_count": 11,
   "id": "659f810d",
   "metadata": {},
   "outputs": [
    {
     "name": "stdout",
     "output_type": "stream",
     "text": [
      "10.0\n",
      "20\n"
     ]
    }
   ],
   "source": [
    "# using return keyword to return the sum of two numbers\n",
    "def addNums(num1, num2):\n",
    "\treturn num1 + num2\n",
    "num = addNums(5.5, 4.5)    # saves returned value into num\n",
    "print(num)\n",
    "print(addNums(10, 10))     # doesn't save returned value"
   ]
  },
  {
   "cell_type": "code",
   "execution_count": 12,
   "id": "c59df9c9",
   "metadata": {},
   "outputs": [
    {
     "name": "stdout",
     "output_type": "stream",
     "text": [
      "True\n"
     ]
    }
   ],
   "source": [
    "# shorthand syntax using a ternary operator\n",
    "def searchList(aList, el):\n",
    "\treturn True if el in aList else False\n",
    "result = searchList([\"one\", 2, \"three\"], 2)    # result = True\n",
    "print(result)"
   ]
  },
  {
   "cell_type": "markdown",
   "id": "cd4a65c3",
   "metadata": {},
   "source": [
    "# Scope"
   ]
  },
  {
   "cell_type": "code",
   "execution_count": 13,
   "id": "8dce431a",
   "metadata": {},
   "outputs": [
    {
     "ename": "UnboundLocalError",
     "evalue": "local variable 'number' referenced before assignment",
     "output_type": "error",
     "traceback": [
      "\u001b[1;31m---------------------------------------------------------------------------\u001b[0m",
      "\u001b[1;31mUnboundLocalError\u001b[0m                         Traceback (most recent call last)",
      "Cell \u001b[1;32mIn[13], line 5\u001b[0m\n\u001b[0;32m      3\u001b[0m \u001b[38;5;28;01mdef\u001b[39;00m \u001b[38;5;21mscopeTest\u001b[39m():\n\u001b[0;32m      4\u001b[0m \tnumber \u001b[38;5;241m+\u001b[39m\u001b[38;5;241m=\u001b[39m \u001b[38;5;241m1\u001b[39m \u001b[38;5;66;03m# not accessible due to function level scope\u001b[39;00m\n\u001b[1;32m----> 5\u001b[0m \u001b[43mscopeTest\u001b[49m\u001b[43m(\u001b[49m\u001b[43m)\u001b[49m\n",
      "Cell \u001b[1;32mIn[13], line 4\u001b[0m, in \u001b[0;36mscopeTest\u001b[1;34m()\u001b[0m\n\u001b[0;32m      3\u001b[0m \u001b[38;5;28;01mdef\u001b[39;00m \u001b[38;5;21mscopeTest\u001b[39m():\n\u001b[1;32m----> 4\u001b[0m \tnumber \u001b[38;5;241m+\u001b[39m\u001b[38;5;241m=\u001b[39m \u001b[38;5;241m1\u001b[39m\n",
      "\u001b[1;31mUnboundLocalError\u001b[0m: local variable 'number' referenced before assignment"
     ]
    }
   ],
   "source": [
    "# where global variables can be accessed\n",
    "number = 5\n",
    "def scopeTest():\n",
    "\tnumber += 1 # not accessible due to function level scope\n",
    "scopeTest()"
   ]
  },
  {
   "cell_type": "code",
   "execution_count": 14,
   "id": "f9fe9ee2",
   "metadata": {},
   "outputs": [
    {
     "name": "stdout",
     "output_type": "stream",
     "text": [
      "function\n"
     ]
    }
   ],
   "source": [
    "# accessing variables defined in a function\n",
    "def scopeTest():\n",
    "\tword = \"function\"\n",
    "\treturn word\n",
    "value = scopeTest()\n",
    "print(value)"
   ]
  },
  {
   "cell_type": "code",
   "execution_count": 15,
   "id": "25b837bc",
   "metadata": {},
   "outputs": [
    {
     "name": "stdout",
     "output_type": "stream",
     "text": [
      "Before Altering: ['baseball', 'football', 'hockey', 'basketball']\n",
      "After Altering: ['soccer', 'football', 'hockey', 'basketball']\n"
     ]
    }
   ],
   "source": [
    "# changing list item values by index\n",
    "sports = [\"baseball\", \"football\", \"hockey\", \"basketball\"]\n",
    "def change(aList):\n",
    "\taList[0] = \"soccer\"\n",
    "print(\"Before Altering: {}\".format(sports))\n",
    "change(sports)\n",
    "print(\"After Altering: {}\".format(sports))"
   ]
  },
  {
   "cell_type": "markdown",
   "id": "04f436ca",
   "metadata": {},
   "source": [
    "# Friday Project: Creating a Shopping Cart"
   ]
  },
  {
   "cell_type": "code",
   "execution_count": 16,
   "id": "36d41837",
   "metadata": {},
   "outputs": [
    {
     "name": "stdout",
     "output_type": "stream",
     "text": [
      "Your cart is empty.\n"
     ]
    }
   ],
   "source": [
    "# import necessary functions\n",
    "from IPython.display import clear_output\n",
    "\n",
    "# global list variable\n",
    "cart = []\n",
    "\n",
    "# create function to add items to cart\n",
    "def addItem(item):\n",
    "    clear_output()\n",
    "    cart.append(item)\n",
    "    print('{} has been added.'.format(item))\n",
    "\n",
    "# create function to remove items from cart\n",
    "def removeItem(item):\n",
    "    clear_output()\n",
    "    try:\n",
    "        cart.remove(item)\n",
    "        print('{} has been removed.'.format(item))\n",
    "    except:\n",
    "        print('Sorry we could not remove that item.')\n",
    "        \n",
    "# create function to show items in cart\n",
    "def showCart():\n",
    "    clear_output()\n",
    "    if cart:\n",
    "        print('Here is your cart:')\n",
    "        for item in cart:\n",
    "            print('- {}'.format(item))\n",
    "    else:\n",
    "        print('Your cart is empty.')\n",
    "\n",
    "# create function to clear items from cart\n",
    "def clearCart():\n",
    "    clear_output()\n",
    "    cart.clear()\n",
    "    print('Your cart is empty.')\n",
    "\n",
    "# create main function that loops until the user quits\n",
    "def main():\n",
    "    done = False\n",
    "    \n",
    "    while not done:\n",
    "        ans = input('quit/add/remove/show/clear: ').lower()\n",
    "        \n",
    "        # base case\n",
    "        if ans == 'quit':\n",
    "            print('Thanks for using our program.')\n",
    "            showCart()\n",
    "            done = True\n",
    "        elif ans == 'add':\n",
    "            item = input('What would you like to add? ').title()\n",
    "            addItem(item)\n",
    "        elif ans == 'remove':\n",
    "            showCart()\n",
    "            item = input('What item would you like to remove? ').title()\n",
    "            removeItem(item)\n",
    "        elif ans == 'show':\n",
    "            showCart()\n",
    "        elif ans == 'clear':\n",
    "            clearCart()\n",
    "        else:\n",
    "            print('Sorry that was not an option.')\n",
    "\n",
    "main()       # run the program"
   ]
  },
  {
   "cell_type": "markdown",
   "id": "ccadf6b9",
   "metadata": {},
   "source": [
    "# Monday Exercises - Answers"
   ]
  },
  {
   "cell_type": "markdown",
   "id": "e793ddf8",
   "metadata": {},
   "source": [
    "1. Print Name: Define a function called myName, and have it print out your name when called."
   ]
  },
  {
   "cell_type": "code",
   "execution_count": 17,
   "id": "4d93559c",
   "metadata": {},
   "outputs": [
    {
     "name": "stdout",
     "output_type": "stream",
     "text": [
      "Bo Moldez\n"
     ]
    }
   ],
   "source": [
    "def myName():\n",
    "    print(\"Bo Moldez\")\n",
    "myName()"
   ]
  },
  {
   "cell_type": "markdown",
   "id": "e0460a56",
   "metadata": {},
   "source": [
    "2. Pizza Toppings: Define a function that prints out all your favorite pizza toppings called pizzaToppings. Call the function three times."
   ]
  },
  {
   "cell_type": "code",
   "execution_count": 18,
   "id": "7320a726",
   "metadata": {},
   "outputs": [
    {
     "name": "stdout",
     "output_type": "stream",
     "text": [
      "['mozzarella', 'bacon', 'pepperoni', 'ham', 'ground beef']\n"
     ]
    }
   ],
   "source": [
    "def pizzaToppings():\n",
    "    toppings = [\"mozzarella\", \"bacon\", \"pepperoni\", \"ham\", \"ground beef\"]\n",
    "    print(toppings)\n",
    "pizzaToppings()"
   ]
  },
  {
   "cell_type": "markdown",
   "id": "1905645c",
   "metadata": {},
   "source": [
    "# Tuesday Exercises - Answers"
   ]
  },
  {
   "cell_type": "markdown",
   "id": "79ad8af0",
   "metadata": {},
   "source": [
    "1. User Input: Ask the user to input a word, and pass that word into a function that checks if the word starts with an uppercase. If it does output “True”, otherwise “False”."
   ]
  },
  {
   "cell_type": "code",
   "execution_count": 19,
   "id": "ce88238a",
   "metadata": {},
   "outputs": [
    {
     "name": "stdout",
     "output_type": "stream",
     "text": [
      "Give me a word please: Twiddles\n",
      "True\n"
     ]
    }
   ],
   "source": [
    "def checkWord(word):\n",
    "    if word[0] == word[0].upper():\n",
    "        print(\"True\")\n",
    "    else:\n",
    "        print(\"False\")\n",
    "        \n",
    "ask = input(\"Give me a word please: \")\n",
    "\n",
    "checkWord(ask)"
   ]
  },
  {
   "cell_type": "markdown",
   "id": "337ca02e",
   "metadata": {},
   "source": [
    "2. No Name: Define a function that takes in two arguments, first_name and last_name, and makes both optional. If no values are passed into the parameters, it should output “No name passed in”; otherwise, it should print out the name."
   ]
  },
  {
   "cell_type": "code",
   "execution_count": 20,
   "id": "1fac0845",
   "metadata": {},
   "outputs": [
    {
     "name": "stdout",
     "output_type": "stream",
     "text": [
      "No name passed in\n",
      "What is your first name? Bo\n",
      "What is your last name? Moldez\n",
      "Bo Moldez\n"
     ]
    }
   ],
   "source": [
    "def outName(first_name = \"\", last_name = \"\"):\n",
    "    if not first_name and not last_name:\n",
    "        print(\"No name passed in\")\n",
    "    else: \n",
    "        print(first_name, last_name)\n",
    "        \n",
    "outName()\n",
    "\n",
    "first = input(\"What is your first name? \")\n",
    "last = input(\"What is your last name? \")\n",
    "\n",
    "outName(first, last)\n"
   ]
  },
  {
   "cell_type": "markdown",
   "id": "121fc075",
   "metadata": {},
   "source": [
    "# Wednesday Exercises - Answers"
   ]
  },
  {
   "cell_type": "markdown",
   "id": "1cf0baa9",
   "metadata": {},
   "source": [
    "1. Full Name: Create a function that takes in a first and last name and returns the two names joined together."
   ]
  },
  {
   "cell_type": "code",
   "execution_count": 21,
   "id": "5c8e7e4d",
   "metadata": {},
   "outputs": [
    {
     "name": "stdout",
     "output_type": "stream",
     "text": [
      "What's your given name? Bo\n",
      "What's your last name? Moldez\n"
     ]
    },
    {
     "data": {
      "text/plain": [
       "'Bo Moldez'"
      ]
     },
     "execution_count": 21,
     "metadata": {},
     "output_type": "execute_result"
    }
   ],
   "source": [
    "def joinedName(first, last):\n",
    "    return first + \" \" +  last\n",
    "\n",
    "first = input(\"What's your given name? \")\n",
    "last = input(\"What's your last name? \")\n",
    "\n",
    "joinedName(first, last)\n"
   ]
  },
  {
   "cell_type": "markdown",
   "id": "a272490f",
   "metadata": {},
   "source": [
    "2. User Input: Within a function, ask for user input. Have this function return that input to be stored in a variable outside of the function. Then print out the input."
   ]
  },
  {
   "cell_type": "code",
   "execution_count": 22,
   "id": "1b3a9ee1",
   "metadata": {},
   "outputs": [
    {
     "name": "stdout",
     "output_type": "stream",
     "text": [
      "What's the word? Media\n",
      "Your word is Media\n"
     ]
    }
   ],
   "source": [
    "def askWord():\n",
    "    return input(\"What's the word? \")\n",
    "\n",
    "response = askWord()\n",
    "\n",
    "print(\"Your word is {}\".format(response))"
   ]
  },
  {
   "cell_type": "markdown",
   "id": "6a41532d",
   "metadata": {},
   "source": [
    "# Thursday Exercises - Answers"
   ]
  },
  {
   "cell_type": "markdown",
   "id": "9b5fc99c",
   "metadata": {},
   "source": [
    "1. Names: Create a function that will change the list passed in with a parameter of name at a given index. Such that if I were to pass in “Bill” and index 1, it would change “Rich” to “Bill.” Use the list and function definition in the following:\n",
    "\n",
    ">>> names = ['Bob', 'Rich', 'Amanda']\n",
    ">>> def changeValue(aList, name, index):"
   ]
  },
  {
   "cell_type": "code",
   "execution_count": 23,
   "id": "b304df1b",
   "metadata": {},
   "outputs": [
    {
     "name": "stdout",
     "output_type": "stream",
     "text": [
      "['Bob', 'Bill', 'Amanda']\n"
     ]
    }
   ],
   "source": [
    "names = [\"Bob\", \"Rich\", \"Amanda\"]\n",
    "\n",
    "def changeValue(aList, name, index):\n",
    "    aList[index] = name\n",
    "    \n",
    "changeValue(names, \"Bill\", 1)\n",
    "\n",
    "print(names)"
   ]
  },
  {
   "cell_type": "markdown",
   "id": "0be2d56a",
   "metadata": {},
   "source": [
    "# End of Week Exercises - Answers"
   ]
  },
  {
   "cell_type": "markdown",
   "id": "72ebe9d9",
   "metadata": {},
   "source": [
    "1. Re-Factor Hangman: This is a large task, so tread lightly, but try to re-factor the Hangman project from last week to use functions. Think about what actions Hangman requires and turn those tasks into functions."
   ]
  },
  {
   "cell_type": "code",
   "execution_count": null,
   "id": "4dc8a308",
   "metadata": {},
   "outputs": [
    {
     "name": "stdout",
     "output_type": "stream",
     "text": [
      "You guessed correctly!\n",
      "Your guessed letters: ['python', 'basket']\n",
      "Word to guess: _ _ _ _ _ _ \n",
      "Lives: 6\n"
     ]
    }
   ],
   "source": [
    "# import additional functions\n",
    "from random import choice\n",
    "from IPython.display import clear_output\n",
    "\n",
    "\n",
    "def checkGameCondition(lives, guesses, word):\n",
    "    if lives <= 0:\n",
    "        print('You lost all your lives, you lost!')\n",
    "        return True\n",
    "    elif word == ''.join(guesses):\n",
    "        print('Congratulations, you guessed it correctly!')\n",
    "        return True\n",
    "        \n",
    "    return False\n",
    "\n",
    "def checkGuess(ans, word, guesses, guessed, lives):\n",
    "    game_over = False\n",
    "    \n",
    "    if ans == 'quit':\n",
    "        print('Thanks for playing.')\n",
    "        game_over = True\n",
    "    elif ans in word and ans not in guessed:\n",
    "        print('You guessed correctly!')\n",
    "\n",
    "        # create a loop to change underscore to proper letter\n",
    "        for i in range(len(word)):\n",
    "            if word[i] == ans:\n",
    "                guesses[i] = ans\n",
    "    elif ans in guessed:\n",
    "        print('You already guessed that. Try again.')\n",
    "    else:                 # otherwise lose life\n",
    "        lives -= 1\n",
    "        print('Incorrect, you lost a life.')\n",
    "\n",
    "    if ans not in guessed:\n",
    "        guessed.append(ans)    # add guess to guessed list\n",
    "        \n",
    "    return game_over, guesses, guessed, lives\n",
    "\n",
    "def outputGameInfo(guesses, guessed, lives):\n",
    "    hidden_word = ''.join(guesses)\n",
    "    print('Your guessed letters: {}'.format(guessed))\n",
    "    print('Word to guess: {}'.format(hidden_word))\n",
    "    print('Lives: {}'.format(lives))\n",
    "\n",
    "\n",
    "\n",
    "def gamePlay():\n",
    "    # declare game variables\n",
    "    words = ['tree', 'basket', 'chair', 'paper', 'python']\n",
    "    word = choice(words)\n",
    "    guessed, lives, game_over = [], 7, False\n",
    "\n",
    "    # create a list of underscores to the length of the word\n",
    "    guesses = ['_ '] * len(word)\n",
    "\n",
    "    # create main game loop\n",
    "    while not game_over:\n",
    "        # output game information\n",
    "        outputGameInfo(guesses, guessed, lives)\n",
    "\n",
    "        ans = input('Type quit or guess a letter: ').lower()\n",
    "\n",
    "        clear_output()     # clear all previous output\n",
    "\n",
    "        game_over, guesses, guessed, lives = checkGuess(ans, word, guesses, guessed, lives)\n",
    "\n",
    "        game_over = checkGameCondition(lives, guesses, word)\n",
    "            \n",
    "gamePlay()"
   ]
  },
  {
   "cell_type": "markdown",
   "id": "fba89b9b",
   "metadata": {},
   "source": [
    "2. Removing by Index: In the shopping cart program, setup the remove function so that you can remove via the index as well. Set the list up so that it prints out as a numbered list, and when asked to remove an item the user can also type out a number next to the list item. For example, using the following you can type '1' to remove \"Grapes\":\n",
    "\n",
    ">>> 1) Grapes\n",
    ">>> What would you like to remove? 1"
   ]
  },
  {
   "cell_type": "code",
   "execution_count": null,
   "id": "316baffa",
   "metadata": {},
   "outputs": [],
   "source": [
    "# import necessary functions\n",
    "from IPython.display import clear_output\n",
    "\n",
    "# global list variable\n",
    "cart = []\n",
    "\n",
    "# create function to add items to cart\n",
    "def addItem(item):\n",
    "    clear_output()\n",
    "    cart.append(item)\n",
    "    print('{} has been added.'.format(item))\n",
    "\n",
    "# create function to remove items from cart\n",
    "def removeItem(item):\n",
    "    clear_output()\n",
    "    try:\n",
    "        if item.isdigit():\n",
    "            item_removed = cart.pop(int(item) - 1)\n",
    "            print('{} has been removed.'.format(item_removed))\n",
    "        else:\n",
    "            cart.remove(item)\n",
    "            print('{} has been removed.'.format(item))\n",
    "    except:\n",
    "        print('Sorry we could not remove that item.')\n",
    "        \n",
    "# create function to show items in cart\n",
    "def showCart():\n",
    "    clear_output()\n",
    "    if cart:\n",
    "        print('Here is your cart:')\n",
    "        for i in range(len(cart)):\n",
    "            print('{}) {}'.format(i + 1, cart[i]))\n",
    "    else:\n",
    "        print('Your cart is empty.')\n",
    "\n",
    "# create function to clear items from cart\n",
    "def clearCart():\n",
    "    clear_output()\n",
    "    cart.clear()\n",
    "    print('Your cart is empty.')\n",
    "\n",
    "# create main function that loops until the user quits\n",
    "def main():\n",
    "    done = False\n",
    "    \n",
    "    while not done:\n",
    "        ans = input('quit/add/remove/show/clear: ').lower()\n",
    "        \n",
    "        # base case\n",
    "        if ans == 'quit':\n",
    "            print('Thanks for using our program.')\n",
    "            showCart()\n",
    "            done = True\n",
    "        elif ans == 'add':\n",
    "            item = input('What would you like to add? ').title()\n",
    "            addItem(item)\n",
    "        elif ans == 'remove':\n",
    "            showCart()\n",
    "            item = input('What item would you like to remove? ').title()\n",
    "            removeItem(item)\n",
    "        elif ans == 'show':\n",
    "            showCart()\n",
    "        elif ans == 'clear':\n",
    "            clearCart()\n",
    "        else:\n",
    "            print('Sorry that was not an option.')\n",
    "\n",
    "main()       # run the program"
   ]
  }
 ],
 "metadata": {
  "kernelspec": {
   "display_name": "Python 3 (ipykernel)",
   "language": "python",
   "name": "python3"
  },
  "language_info": {
   "codemirror_mode": {
    "name": "ipython",
    "version": 3
   },
   "file_extension": ".py",
   "mimetype": "text/x-python",
   "name": "python",
   "nbconvert_exporter": "python",
   "pygments_lexer": "ipython3",
   "version": "3.10.9"
  }
 },
 "nbformat": 4,
 "nbformat_minor": 5
}
