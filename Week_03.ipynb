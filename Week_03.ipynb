{
 "cells": [
  {
   "cell_type": "markdown",
   "id": "d552ffcb",
   "metadata": {},
   "source": [
    "# User Input & Type Converting"
   ]
  },
  {
   "cell_type": "code",
   "execution_count": 2,
   "id": "7644fe9e",
   "metadata": {},
   "outputs": [
    {
     "name": "stdout",
     "output_type": "stream",
     "text": [
      "What is your name? Bo Moldez\n",
      "Bo Moldez\n"
     ]
    }
   ],
   "source": [
    "# accepting and outputting user input\n",
    "print(input(\"What is your name? \"))"
   ]
  },
  {
   "cell_type": "code",
   "execution_count": 3,
   "id": "1d05ba7c",
   "metadata": {},
   "outputs": [
    {
     "name": "stdout",
     "output_type": "stream",
     "text": [
      "What is your name? Bo Moldez\n",
      "Hello Bo Moldez!\n"
     ]
    }
   ],
   "source": [
    "# saving what the user inputs\n",
    "ans = input(\"What is your name? \")\n",
    "print(\"Hello {}!\".format(ans))"
   ]
  },
  {
   "cell_type": "code",
   "execution_count": 4,
   "id": "7fb20125",
   "metadata": {},
   "outputs": [
    {
     "name": "stdout",
     "output_type": "stream",
     "text": [
      "<class 'int'>\n"
     ]
    }
   ],
   "source": [
    "# how to check the data type of a variable\n",
    "num = 5\n",
    "print(type(num))"
   ]
  },
  {
   "cell_type": "code",
   "execution_count": 5,
   "id": "1ad1b907",
   "metadata": {},
   "outputs": [
    {
     "name": "stdout",
     "output_type": "stream",
     "text": [
      "<class 'int'>\n"
     ]
    }
   ],
   "source": [
    "# converting a variable from one data type to another\n",
    "num = \"9\"\n",
    "num = int(num)   # re-declaring num to store an integer\n",
    "print(type(num)) # checking type to make sure conversion worked"
   ]
  },
  {
   "cell_type": "code",
   "execution_count": 6,
   "id": "f7b40cce",
   "metadata": {},
   "outputs": [
    {
     "name": "stdout",
     "output_type": "stream",
     "text": [
      "Type a number to add: 21\n",
      "<class 'str'>\n",
      "100 + 21 = 121\n"
     ]
    }
   ],
   "source": [
    "# working with user input to perform calculations\n",
    "ans = input(\"Type a number to add: \")\n",
    "print(type(ans))    # default type is string, must convert\n",
    "result = 100 + int(ans)\n",
    "print(\"100 + {} = {}\".format(ans, result))  "
   ]
  },
  {
   "cell_type": "code",
   "execution_count": 7,
   "id": "5f0befb7",
   "metadata": {},
   "outputs": [
    {
     "name": "stdout",
     "output_type": "stream",
     "text": [
      "Type a number to add: 21\n",
      "100 + 21.0 = 121.0\n",
      "The program did not break!\n"
     ]
    }
   ],
   "source": [
    "# using the try and except blocks, use tab to indent where necessary\n",
    "\n",
    "try:\n",
    "    ans = float(input('Type a number to add: '))\n",
    "    print('100 + {} = {}'.format(ans, 100 + ans))\n",
    "except:\n",
    "    print('You did not put in a valid number!')\n",
    "\n",
    "    # without try/except print statement would not get hit if error occurs\n",
    "print('The program did not break!')"
   ]
  },
  {
   "cell_type": "markdown",
   "id": "713b886e",
   "metadata": {},
   "source": [
    "# If Statements"
   ]
  },
  {
   "cell_type": "code",
   "execution_count": 12,
   "id": "992cbb14",
   "metadata": {},
   "outputs": [
    {
     "name": "stdout",
     "output_type": "stream",
     "text": [
      "x is less than y\n"
     ]
    }
   ],
   "source": [
    "# using an if statement to only run code if the condition is met\n",
    "x, y = 5, 10\n",
    "if x < y:\n",
    "\tprint(\"x is less than y\")"
   ]
  },
  {
   "cell_type": "code",
   "execution_count": 13,
   "id": "28ebded3",
   "metadata": {},
   "outputs": [
    {
     "name": "stdout",
     "output_type": "stream",
     "text": [
      "What is 5 + 5? 10\n",
      "You got it right!\n"
     ]
    }
   ],
   "source": [
    "# checking user input\n",
    "ans = int(input(\"What is 5 + 5? \"))\n",
    "if ans == 10:\n",
    "\tprint(\"You got it right!\")"
   ]
  },
  {
   "cell_type": "code",
   "execution_count": 14,
   "id": "b9c55d28",
   "metadata": {},
   "outputs": [
    {
     "name": "stdout",
     "output_type": "stream",
     "text": [
      "Both statements were true\n"
     ]
    }
   ],
   "source": [
    "# using the keyword 'and' in an 'if statement'\n",
    "x, y, z = 5, 10, 5\n",
    "if x < y and x == z:\n",
    "\tprint(\"Both statements were true\")"
   ]
  },
  {
   "cell_type": "code",
   "execution_count": 15,
   "id": "82009314",
   "metadata": {},
   "outputs": [
    {
     "name": "stdout",
     "output_type": "stream",
     "text": [
      "One or both statements are true\n"
     ]
    }
   ],
   "source": [
    "# using the keyword 'or' in an 'if statement'\n",
    "x, y, z = 5, 10, 5\n",
    "if x < y or x != z:\n",
    "\tprint(\"One or both statements are true\")"
   ]
  },
  {
   "cell_type": "code",
   "execution_count": 16,
   "id": "202234aa",
   "metadata": {},
   "outputs": [
    {
     "name": "stdout",
     "output_type": "stream",
     "text": [
      "Flag is False\n"
     ]
    }
   ],
   "source": [
    "# using the keyword 'not' within an 'if statement'\n",
    "flag = False\n",
    "if not flag:       # same as saying if not true\n",
    "\tprint(\"Flag is False\")"
   ]
  },
  {
   "cell_type": "code",
   "execution_count": 19,
   "id": "f47dc179",
   "metadata": {},
   "outputs": [
    {
     "name": "stdout",
     "output_type": "stream",
     "text": [
      "Baseball contains the character b\n"
     ]
    }
   ],
   "source": [
    "# using the keyword 'in' within an 'if statement'\n",
    "word = \"Baseball\"\n",
    "if \"b\" in word:\n",
    "\tprint(\"{} contains the character b\".format(word))"
   ]
  },
  {
   "cell_type": "code",
   "execution_count": 20,
   "id": "fd322ca0",
   "metadata": {},
   "outputs": [
    {
     "name": "stdout",
     "output_type": "stream",
     "text": [
      "Baseball does not contain the character x\n"
     ]
    }
   ],
   "source": [
    "# using the keyword 'not in' within an 'if statement'\n",
    "word = \"Baseball\"\n",
    "if \"x\" not in word: \n",
    "\tprint(\"{} does not contain the character x\".format(word))"
   ]
  },
  {
   "cell_type": "markdown",
   "id": "b0665096",
   "metadata": {},
   "source": [
    "# Elif Statements"
   ]
  },
  {
   "cell_type": "code",
   "execution_count": 48,
   "id": "d57739bb",
   "metadata": {},
   "outputs": [
    {
     "name": "stdout",
     "output_type": "stream",
     "text": [
      "x is less\n"
     ]
    }
   ],
   "source": [
    "# using the elif conditional statement\n",
    "x, y = 5, 10\n",
    "if x > y:\n",
    "\tprint(\"x is greater\")\n",
    "elif x < y: \n",
    "\tprint(\"x is less\")"
   ]
  },
  {
   "cell_type": "code",
   "execution_count": 49,
   "id": "e8a41c1a",
   "metadata": {},
   "outputs": [
    {
     "name": "stdout",
     "output_type": "stream",
     "text": [
      "equal\n"
     ]
    }
   ],
   "source": [
    "# checking more than one elif conditional statement\n",
    "x, y = 5, 10\n",
    "if x > y: \n",
    "\tprint(\"x is greater\")\n",
    "elif (x + 10) < y:           # checking if 15 is less than 10\n",
    "\tprint(\"x is less\")\n",
    "elif (x + 5) == y:           # checking if 10 is equal to 10\n",
    "\tprint(\"equal\")"
   ]
  },
  {
   "cell_type": "code",
   "execution_count": 50,
   "id": "73cb189d",
   "metadata": {},
   "outputs": [
    {
     "name": "stdout",
     "output_type": "stream",
     "text": [
      "x is equal to z\n"
     ]
    }
   ],
   "source": [
    "# writing multiple conditionals within each other - multiple block levels\n",
    "x, y, z = 5, 10, 5\n",
    "if x > y: \n",
    "\tprint(\"greater\")\n",
    "elif x <= y:\n",
    "\tif x == z: \n",
    "\t\tprint(\"x is equal to z\")        # resulting output\n",
    "\telif x != z:\n",
    "\t\tprint(\"x is not equal to z\")    # won't get hit"
   ]
  },
  {
   "cell_type": "code",
   "execution_count": 51,
   "id": "3293b7dc",
   "metadata": {},
   "outputs": [
    {
     "name": "stdout",
     "output_type": "stream",
     "text": [
      "x is less\n",
      "x is equal\n"
     ]
    }
   ],
   "source": [
    "# testing output of two if statements in a row that are both true\n",
    "x, y, z = 5, 10, 5\n",
    "if x < y: \n",
    "\tprint(\"x is less\")\n",
    "if x == z: \n",
    "\tprint(\"x is equal\")"
   ]
  },
  {
   "cell_type": "code",
   "execution_count": 52,
   "id": "c8dfc623",
   "metadata": {},
   "outputs": [
    {
     "name": "stdout",
     "output_type": "stream",
     "text": [
      "x is less\n"
     ]
    }
   ],
   "source": [
    "# testing output of an if and elif statement that are both true\n",
    "x, y, z = 5, 10, 5\n",
    "if x < y: \n",
    "\tprint(\"x is less\")\n",
    "elif x == z: \n",
    "\tprint(\"x is equal to z\")"
   ]
  },
  {
   "cell_type": "markdown",
   "id": "ebb8ec57",
   "metadata": {},
   "source": [
    "# Else Statements"
   ]
  },
  {
   "cell_type": "code",
   "execution_count": 56,
   "id": "952653e4",
   "metadata": {},
   "outputs": [
    {
     "name": "stdout",
     "output_type": "stream",
     "text": [
      "Hello John!\n"
     ]
    }
   ],
   "source": [
    "# using an else statement\n",
    "name = \"John\"\n",
    "if name == \"Jacob\":\n",
    "\tprint(\"Hello Jacob!\")\n",
    "else: \n",
    "\tprint(\"Hello {}!\".format(name))"
   ]
  },
  {
   "cell_type": "code",
   "execution_count": 59,
   "id": "a4a6d496",
   "metadata": {},
   "outputs": [
    {
     "name": "stdout",
     "output_type": "stream",
     "text": [
      "Name starts with an J\n"
     ]
    }
   ],
   "source": [
    "# writing a full conditional statement with if, elif, else\n",
    "name = \"John\"\n",
    "if name[0] == \"A\":\n",
    "\tprint(\"Name starts with an A\")\n",
    "elif name[0] == \"B\":\n",
    "\tprint(\"Name starts with an B\")\n",
    "elif name[0] == \"J\":\n",
    "\tprint(\"Name starts with an J\")\n",
    "else:                             # covers all other possibilities\n",
    "\t\tprint(\"Name starts with a {}\".format(name[0]))"
   ]
  },
  {
   "cell_type": "markdown",
   "id": "d7f6b435",
   "metadata": {},
   "source": [
    "# Friday Project: Creating a Calculator"
   ]
  },
  {
   "cell_type": "code",
   "execution_count": 68,
   "id": "88e19420",
   "metadata": {},
   "outputs": [
    {
     "name": "stdout",
     "output_type": "stream",
     "text": [
      "Would you like to add/subtract/multiply/divide? subtract\n",
      "You choose subtract.\n"
     ]
    }
   ],
   "source": [
    "# step 1: ask user for calculation to be performed\n",
    "operation = input(\"Would you like to add/subtract/multiply/divide? \").lower()\n",
    "print(\"You choose {}.\".format(operation))      # for testing purposes"
   ]
  },
  {
   "cell_type": "code",
   "execution_count": 69,
   "id": "ef3f9d13",
   "metadata": {},
   "outputs": [
    {
     "name": "stdout",
     "output_type": "stream",
     "text": [
      "You chose subtract.\n",
      "Please keep in mind that the order of your numbers matter.\n",
      "What is the first number? 21\n",
      "What is the second number? 5\n",
      "First Number: 21\n",
      "Second Number: 5\n"
     ]
    }
   ],
   "source": [
    "# step 2: ask for numbers, alert order matters for subtracting and dividing\n",
    "if operation == \"subtract\" or operation == \"divide\":\n",
    "\tprint(\"You chose {}.\".format(operation))\n",
    "\tprint(\"Please keep in mind that the order of your numbers matter.\")\n",
    "num1 = input(\"What is the first number? \")\n",
    "num2 = input(\"What is the second number? \")\n",
    "print(\"First Number: {}\".format(num1))    # for testing purposes \n",
    "print(\"Second Number: {}\".format(num2))    # for testing purposes \n"
   ]
  },
  {
   "cell_type": "code",
   "execution_count": 70,
   "id": "b990580c",
   "metadata": {},
   "outputs": [
    {
     "name": "stdout",
     "output_type": "stream",
     "text": [
      "21.0 - 5.0 = 16.0\n"
     ]
    }
   ],
   "source": [
    "# step 3: setup try/except for mathematical operation \n",
    "try: \n",
    "\t# step 3a: immediately try to convert numbers input to floats\n",
    "\tnum1, num2 = float(num1), float(num2)\n",
    "\t# step 3b: perform operation and print result\n",
    "\tif operation == \"add\":\n",
    "\t\tresult = num1 + num2\n",
    "\t\tprint(\"{} + {} = {}\".format(num1, num2, result))\n",
    "\telif operation == \"subtract\":\n",
    "\t\tresult = num1 - num2\n",
    "\t\tprint(\"{} - {} = {}\".format(num1, num2, result))\n",
    "\telif operation == \"multiply\":\n",
    "\t\tresult = num1 * num2\n",
    "\t\tprint(\"{} * {} = {}\".format(num1, num2, result))\n",
    "\telif operation == \"divide\":\n",
    "\t\tresult = num1 / num2\n",
    "\t\tprint(\"{} / {} = {}\".format(num1, num2, result))\n",
    "\telse:\n",
    "\t\t# else will be hit if they didn't chose an option correctly\n",
    "\t\tprint(\"Sorry, but '{}' is not an option\".format(operation))\n",
    "except: \n",
    "\t# step 3c: print error\n",
    "\tprint(\"Error: Improper numbers used. Please try again.\")"
   ]
  },
  {
   "cell_type": "code",
   "execution_count": 79,
   "id": "76be05c0",
   "metadata": {},
   "outputs": [
    {
     "name": "stdout",
     "output_type": "stream",
     "text": [
      "Would you like to add/subtract/multiply/divide? divide\n",
      "You chose divide.\n",
      "Please keep in mind that the order of your numbers matter.\n",
      "What is the first number? 10\n",
      "What is the second number? 2\n",
      "10.0 / 2.0 = 5.0\n"
     ]
    }
   ],
   "source": [
    "# step 1: ask user for calculation to be performed\n",
    "operation = input(\"Would you like to add/subtract/multiply/divide? \").lower()\n",
    "\n",
    "# step 2: ask for numbers, alert order matters for subtracting and dividing\n",
    "if operation == \"subtract\" or operation == \"divide\":\n",
    "\tprint(\"You chose {}.\".format(operation))\n",
    "\tprint(\"Please keep in mind that the order of your numbers matter.\")\n",
    "num1 = input(\"What is the first number? \")\n",
    "num2 = input(\"What is the second number? \")\n",
    "\n",
    "# step 3: setup try/except for mathematical operation \n",
    "try: \n",
    "\t# step 3a: immediately try to convert numbers input to floats\n",
    "\tnum1, num2 = float(num1), float(num2)\n",
    "\t# step 3b: perform operation and print result\n",
    "\tif operation == \"add\":\n",
    "\t\tresult = num1 + num2\n",
    "\t\tprint(\"{} + {} = {}\".format(num1, num2, result))\n",
    "\telif operation == \"subtract\":\n",
    "\t\tresult = num1 - num2\n",
    "\t\tprint(\"{} - {} = {}\".format(num1, num2, result))\n",
    "\telif operation == \"multiply\":\n",
    "\t\tresult = num1 * num2\n",
    "\t\tprint(\"{} * {} = {}\".format(num1, num2, result))\n",
    "\telif operation == \"divide\":\n",
    "\t\tresult = num1 / num2\n",
    "\t\tprint(\"{} / {} = {}\".format(num1, num2, result))\n",
    "\telse:\n",
    "\t\t# else will be hit if they didn't chose an option correctly\n",
    "\t\tprint(\"Sorry, but '{}' is not an option\".format(operation))\n",
    "except: \n",
    "\t# step 3c: print error\n",
    "\tprint(\"Error: Improper numbers used. Please try again.\")"
   ]
  },
  {
   "cell_type": "markdown",
   "id": "8def525a",
   "metadata": {},
   "source": [
    "# Monday Exercises - Answers"
   ]
  },
  {
   "cell_type": "markdown",
   "id": "74d070b3",
   "metadata": {},
   "source": [
    "1. Converting: Try converting a string of “True” to a boolean, and then output its type to make sure it converted properly."
   ]
  },
  {
   "cell_type": "code",
   "execution_count": 8,
   "id": "a526757f",
   "metadata": {},
   "outputs": [
    {
     "name": "stdout",
     "output_type": "stream",
     "text": [
      "<class 'str'>\n",
      "<class 'bool'>\n"
     ]
    }
   ],
   "source": [
    "s = 'True'\n",
    "\n",
    "print(type(s))\n",
    "\n",
    "switch = bool(s)\n",
    "\n",
    "print(type(switch))"
   ]
  },
  {
   "cell_type": "markdown",
   "id": "837907f0",
   "metadata": {},
   "source": [
    "2. Sum of Inputs: Create two input statements, and ask the user to enter two numbers. Print the sum of these numbers out."
   ]
  },
  {
   "cell_type": "code",
   "execution_count": 10,
   "id": "a84f81ab",
   "metadata": {},
   "outputs": [
    {
     "name": "stdout",
     "output_type": "stream",
     "text": [
      "Enter a number: 22\n",
      "Enter a second number: 22\n",
      "22 and 22 add up to 44.0\n"
     ]
    }
   ],
   "source": [
    "num1 = input('Enter a number: ')\n",
    "num2 = input('Enter a second number: ')\n",
    "result = float(num1) + float(num2)\n",
    "print('{} and {} add up to {}'.format(num1, num2, result))"
   ]
  },
  {
   "cell_type": "markdown",
   "id": "2eaf420c",
   "metadata": {},
   "source": [
    "3. Car Information: Ask the user to input the year, make, model, and color of their car, and print a nicely formatted statement like “2018 Blue Chevrolet Silverado.”"
   ]
  },
  {
   "cell_type": "code",
   "execution_count": 11,
   "id": "62e7eba4",
   "metadata": {},
   "outputs": [
    {
     "name": "stdout",
     "output_type": "stream",
     "text": [
      "What is the year of your car? 2018\n",
      "What is the make of your car? Chevrolet\n",
      "What is the model of your car? Silverado\n",
      "What is the color of your car? Blue\n",
      "2018 Blue Chevrolet Silverado\n"
     ]
    }
   ],
   "source": [
    "year = input('What is the year of your car? ')\n",
    "make = input('What is the make of your car? ')\n",
    "model = input('What is the model of your car? ')\n",
    "color = input('What is the color of your car? ')\n",
    "\n",
    "print('{} {} {} {}'.format(year, color, make, model))"
   ]
  },
  {
   "cell_type": "markdown",
   "id": "c3ce5891",
   "metadata": {},
   "source": [
    "# Tuesday Exercises - Answers"
   ]
  },
  {
   "cell_type": "markdown",
   "id": "6146e103",
   "metadata": {},
   "source": [
    "1. Checking Inclusion – Part 1: Ask the user for input, and check to see if what they wrote includes an “es”."
   ]
  },
  {
   "cell_type": "code",
   "execution_count": 28,
   "id": "1415bc21",
   "metadata": {},
   "outputs": [
    {
     "name": "stdout",
     "output_type": "stream",
     "text": [
      "Give me a word. Make sure it has an 'es'.Terraces\n",
      "Terraces contains the string 'es'.\n"
     ]
    }
   ],
   "source": [
    "word = input(str(\"Give me a word. Make sure it has an 'es'.\"))\n",
    "if \"es\" in word: \n",
    "    print(\"{} contains the string 'es'.\".format(word))\n",
    "else: \n",
    "    print(\"Nope. Not in there.\")"
   ]
  },
  {
   "cell_type": "markdown",
   "id": "d5f54bf5",
   "metadata": {},
   "source": [
    "2. Checking Inclusion – Part 2: Ask the user for input, and check to see if what they wrote has an “ing” at the end. Hint: Use slicing."
   ]
  },
  {
   "cell_type": "code",
   "execution_count": 38,
   "id": "755305bb",
   "metadata": {},
   "outputs": [
    {
     "name": "stdout",
     "output_type": "stream",
     "text": [
      "Please input a word: Bling\n",
      "Bling contains the string 'ing'.\n"
     ]
    }
   ],
   "source": [
    "ans = input('Please input a word: ')\n",
    "\n",
    "if 'ing' in ans[-3:]:\n",
    "    print(\"{} contains the string 'ing'.\".format(ans))\n",
    "elif 'ing' not in ans[-3:]:\n",
    "    print('Your word does not end with \"ing\"')"
   ]
  },
  {
   "cell_type": "markdown",
   "id": "bc7fab70",
   "metadata": {},
   "source": [
    "3. Checking Equality: Ask the user to input two words, and write a conditional statement to check if both words are the same. Make it case insensitive so that capitals do not matter."
   ]
  },
  {
   "cell_type": "code",
   "execution_count": 42,
   "id": "92b3ac55",
   "metadata": {},
   "outputs": [
    {
     "name": "stdout",
     "output_type": "stream",
     "text": [
      "Give a word: Baybe\n",
      "Give me another word: baybe\n",
      "Same word bro\n"
     ]
    }
   ],
   "source": [
    "word1 = input(\"Give a word: \")\n",
    "word2 = input(\"Give me another word: \")\n",
    "\n",
    "if word1.lower() == word2.lower(): \n",
    "    print(\"Same word bro\")\n",
    "elif word1.lower() != word2.lower():\n",
    "    print(\"Different word bro\")"
   ]
  },
  {
   "cell_type": "markdown",
   "id": "e02b4695",
   "metadata": {},
   "source": [
    "4. Returning Exponents: Ask for the user to input a number, and return that number squared if it is lower than 10. Hint: Investigate arithmetic expressions for exponents."
   ]
  },
  {
   "cell_type": "code",
   "execution_count": 47,
   "id": "70e56361",
   "metadata": {},
   "outputs": [
    {
     "name": "stdout",
     "output_type": "stream",
     "text": [
      "If it's more than 10, I won't do anything bro.\n",
      "Give me a number bro: 2\n",
      "I'ma square it and you get 4\n"
     ]
    }
   ],
   "source": [
    "print(\"If it's more than 10, I won't do anything bro.\")\n",
    "num = int(input(\"Give me a number bro: \"))\n",
    "\n",
    "if num < 10: \n",
    "    sqr = num ** 2\n",
    "    print(\"I'ma square it and you get {}\".format(sqr))\n",
    "elif num > 10: \n",
    "    print(\"Too much bro\")"
   ]
  },
  {
   "cell_type": "markdown",
   "id": "292c2cb5",
   "metadata": {},
   "source": [
    "# Wednesday Exercises - Answers"
   ]
  },
  {
   "cell_type": "markdown",
   "id": "83cd70a1",
   "metadata": {},
   "source": [
    "1. Higher/Lower: Ask the user to input a number. Type convert that number, and use an if/elif statement to print whether it’s higher or lower than 100."
   ]
  },
  {
   "cell_type": "code",
   "execution_count": 54,
   "id": "c715ad59",
   "metadata": {},
   "outputs": [
    {
     "name": "stdout",
     "output_type": "stream",
     "text": [
      "Give me a number bro: 121\n",
      "This is higher than 100 bro.\n"
     ]
    }
   ],
   "source": [
    "num = float(input(\"Give me a number bro: \"))\n",
    "\n",
    "if num < 100:\n",
    "    print(\"This is lower than 100 bro.\")\n",
    "elif num > 100:\n",
    "    print(\"This is higher than 100 bro.\")"
   ]
  },
  {
   "cell_type": "markdown",
   "id": "33af544b",
   "metadata": {},
   "source": [
    "2. Find the Solution: Given the following code, fix any/all errors in order to make it output “lower”:\n",
    "\n",
    "x, y = 5, 10\n",
    "if x > y:\n",
    "print(\"greater\")\n",
    "try x < y:\n",
    "print(\"lower\")"
   ]
  },
  {
   "cell_type": "code",
   "execution_count": 55,
   "id": "f5598bbb",
   "metadata": {},
   "outputs": [
    {
     "name": "stdout",
     "output_type": "stream",
     "text": [
      "lower\n"
     ]
    }
   ],
   "source": [
    "x, y = 5, 10\n",
    "if x > y:\n",
    "    print(\"greater\")\n",
    "elif x < y:\n",
    "    print(\"lower\")"
   ]
  },
  {
   "cell_type": "markdown",
   "id": "02c971f4",
   "metadata": {},
   "source": [
    "# Thursday Exercises - Answers"
   ]
  },
  {
   "cell_type": "markdown",
   "id": "0debecd2",
   "metadata": {},
   "source": [
    "1. Fix the Errors: Given the following code, fix any/all errors so that it outputs “Hello John” correctly:\n",
    "\n",
    ">>> name = \"John\"\n",
    ">>> if name == \"Jack\":\n",
    ">>> print(\"Hello Jack\")\n",
    ">>> elif:\n",
    ">>>> print(\"Hello John\")\n"
   ]
  },
  {
   "cell_type": "code",
   "execution_count": 60,
   "id": "6cc15c36",
   "metadata": {},
   "outputs": [
    {
     "name": "stdout",
     "output_type": "stream",
     "text": [
      "Hello John\n"
     ]
    }
   ],
   "source": [
    "name = \"John\"\n",
    "if name == \"Jack\":\n",
    "    print(\"Hello Jack\")\n",
    "elif name == \"John\":\n",
    "    print(\"Hello John\")"
   ]
  },
  {
   "cell_type": "markdown",
   "id": "bc1b9d07",
   "metadata": {},
   "source": [
    "2. User Input: Ask the user to input the time of day in military time without a colon (1100 = 11:00 AM). Write a conditional statement so that it outputs the following:\n",
    "\n",
    "a. “Good Morning” if less than 1200\n",
    "b. “Good Afternoon” if between 1200 and 1700\n",
    "c. “Good Evening” if equal or above 1700"
   ]
  },
  {
   "cell_type": "code",
   "execution_count": 63,
   "id": "b78b6b74",
   "metadata": {},
   "outputs": [
    {
     "name": "stdout",
     "output_type": "stream",
     "text": [
      "Tell me the military time right now bro. 0900\n",
      "Good Morning\n"
     ]
    }
   ],
   "source": [
    "time = int(input(\"Tell me the military time right now bro. \"))\n",
    "\n",
    "if time < 1200:\n",
    "    print(\"Good Morning\")\n",
    "elif time > 1200 and time < 1700:\n",
    "    print(\"Good Afternoon\")\n",
    "elif time >= 1700: \n",
    "    print(\"Good Evening\")"
   ]
  },
  {
   "cell_type": "markdown",
   "id": "33016e32",
   "metadata": {},
   "source": [
    "# End of Week Exercises - Answers"
   ]
  },
  {
   "cell_type": "markdown",
   "id": "422ed293",
   "metadata": {},
   "source": [
    "1. Reversing Numbers: Alter the calculator project so that the order of the numbers doesn’t matter. There are a few ways to get the same result; one way is to ask the user if they’d like to reverse the placement of the numbers."
   ]
  },
  {
   "cell_type": "code",
   "execution_count": 80,
   "id": "fc8e9122",
   "metadata": {},
   "outputs": [
    {
     "name": "stdout",
     "output_type": "stream",
     "text": [
      "Would you like to add/subtract/multiply/divide? divide\n",
      "You chose divide.\n",
      "Please keep in mind that the order of your numbers matter.\n",
      "What is the first number? 10\n",
      "What is the second number? 5\n",
      "Currently you are performing 10.0 / 5.0\n",
      "Would you like to reverse the numbers? (y/n) n\n",
      "10.0 / 5.0 = 2.0\n"
     ]
    }
   ],
   "source": [
    "# step 1: ask user for calculation to be performed\n",
    "operation = input('Would you like to add/subtract/multiply/divide? ').lower()\n",
    "\n",
    "# step 2: ask for numbers, alert order matters for subtracting or dividing\n",
    "if operation == 'subtract' or operation == 'divide':\n",
    "    print('You chose {}.'.format(operation))\n",
    "    print('Please keep in mind that the order of your numbers matter.')\n",
    "\n",
    "num1 = input('What is the first number? ')\n",
    "num2 = input('What is the second number? ')\n",
    "\n",
    "# step 3: setup try/except for mathematical operation\n",
    "try:\n",
    "    # step 3a: immediately try to convert numbers input to floats\n",
    "    num1, num2 = float(num1), float(num2)\n",
    "    \n",
    "    # step 3b: perform operation and print result\n",
    "    if operation == 'add':\n",
    "        result = num1 + num2\n",
    "        print('{} + {} = {}'.format(num1, num2, result))\n",
    "    elif operation == 'subtract':\n",
    "        print('Currently you are performing {} - {}'.format(num1, num2))\n",
    "        ans = input('Would you like to reverse the numbers? (y/n) ')\n",
    "        \n",
    "        # reverse the numbers\n",
    "        if ans == 'y':\n",
    "            num1, num2 = num2, num1   # called an in-place swap\n",
    "            \n",
    "        result = num1 - num2\n",
    "        print('{} - {} = {}'.format(num1, num2, result))\n",
    "        \n",
    "    elif operation == 'multiply':\n",
    "        result = num1 * num2\n",
    "        print('{} * {} = {}'.format(num1, num2, result))\n",
    "    elif operation == 'divide':\n",
    "        print('Currently you are performing {} / {}'.format(num1, num2))\n",
    "        ans = input('Would you like to reverse the numbers? (y/n) ')\n",
    "        \n",
    "        # reverse the numbers\n",
    "        if ans == 'y':\n",
    "            num1, num2 = num2, num1   # called an in-place swap\n",
    "            \n",
    "        result = num1 / num2\n",
    "        print('{} / {} = {}'.format(num1, num2, result))\n",
    "    else:\n",
    "        # else will be hit if they didn't chose an option correctly\n",
    "        print('Sorry, but \"{}\" is not an option.'.format(operation))\n",
    "except:\n",
    "    # step 3c: print error\n",
    "    print('Error: Improper numbers used. Please try again.')"
   ]
  },
  {
   "cell_type": "markdown",
   "id": "4bada137",
   "metadata": {},
   "source": [
    "2. Age Group: Ask the user to input their age. Depending on their input, output one of the following groups:\n",
    "\n",
    "a. Between 0 and 12 = “Kid”\n",
    "b. Between 13 and 19 = “Teenager”\n",
    "c. Between 20 and 30 = “Young Adult”\n",
    "d. Between 31 and 64 = “Adult”\n",
    "e. 65 or above = “Senior”"
   ]
  },
  {
   "cell_type": "code",
   "execution_count": 84,
   "id": "e3399966",
   "metadata": {},
   "outputs": [
    {
     "name": "stdout",
     "output_type": "stream",
     "text": [
      "How old are you? 38\n",
      "Adult\n"
     ]
    }
   ],
   "source": [
    "age = int(input(\"How old are you? \"))\n",
    "\n",
    "if age >= 0 and age <= 12:\n",
    "    print(\"Kid\")\n",
    "elif age >= 13 and age <= 19:\n",
    "    print(\"Teenager\")\n",
    "elif age >= 20 and age <= 30:\n",
    "    print(\"Young Adult\")\n",
    "elif age >= 31 and age <= 64:\n",
    "    print(\"Adult\")\n",
    "elif age >= 65:\n",
    "    print(\"Senior\")\n",
    "    "
   ]
  },
  {
   "cell_type": "markdown",
   "id": "bb88273c",
   "metadata": {},
   "source": [
    "3. Text-Based RPG: This is an open-ended exercise. Create a textbased RPG with a story line. You take user input and give them a couple choices, and depending on what they choose, they can go down a different path. You’ll use several branching statements depending on the length of the story."
   ]
  },
  {
   "cell_type": "code",
   "execution_count": 85,
   "id": "1f929afc",
   "metadata": {},
   "outputs": [
    {
     "name": "stdout",
     "output_type": "stream",
     "text": [
      "1: Pick the lock\n",
      "2: Go to sleep\n",
      "You awake in a jail cell, what would you like to do? Go to sleep\n"
     ]
    }
   ],
   "source": [
    "# as it's open-ended this is a sample\n",
    "\n",
    "print('1: Pick the lock')\n",
    "print('2: Go to sleep')\n",
    "ans = input('You awake in a jail cell, what would you like to do? ')\n",
    "\n",
    "if ans == '1':\n",
    "    print('1: Run')\n",
    "    print('2: Fight')\n",
    "    ans = input('The door opens, a guard notices you though, what do you do? ')\n",
    "    \n",
    "    if ans == '1':\n",
    "        print('You got away, congrats you are free!')\n",
    "    elif ans == '2':\n",
    "        print('The guard caught you... you lost!')\n",
    "        \n",
    "elif ans == '2':\n",
    "    print('1: Pick the lock')\n",
    "    print('2: Go to sleep')\n",
    "    ans = input('You awake in a jail cell, what would you like to do? ')"
   ]
  }
 ],
 "metadata": {
  "kernelspec": {
   "display_name": "Python 3 (ipykernel)",
   "language": "python",
   "name": "python3"
  },
  "language_info": {
   "codemirror_mode": {
    "name": "ipython",
    "version": 3
   },
   "file_extension": ".py",
   "mimetype": "text/x-python",
   "name": "python",
   "nbconvert_exporter": "python",
   "pygments_lexer": "ipython3",
   "version": "3.10.9"
  }
 },
 "nbformat": 4,
 "nbformat_minor": 5
}
